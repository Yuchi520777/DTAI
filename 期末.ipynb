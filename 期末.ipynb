{
 "cells": [
  {
   "cell_type": "code",
   "execution_count": null,
   "metadata": {},
   "outputs": [],
   "source": [
    "#OJ5\n",
    "a,b,c=input().split()\n",
    "a = int(a)\n",
    "b = int(b)\n",
    "c = int(c)\n",
    "\n",
    "if a<=b and a<=c:\n",
    "    print(a)\n",
    "elif b<=a and b<=c:\n",
    "    print(b)\n",
    "else:\n",
    "    print(c)"
   ]
  },
  {
   "cell_type": "code",
   "execution_count": null,
   "metadata": {},
   "outputs": [],
   "source": [
    "#OJ8\n",
    "n=int(input())\n",
    "total_sum=0\n",
    "\n",
    "for i in range(1,n+1):\n",
    "    if (i%3==0) or (i%7==0):\n",
    "        total_sum+=i\n",
    "print(total_sum)"
   ]
  },
  {
   "cell_type": "code",
   "execution_count": 10,
   "metadata": {},
   "outputs": [
    {
     "name": "stdout",
     "output_type": "stream",
     "text": [
      "*\n",
      "**\n",
      "***\n",
      "****\n",
      "*****\n",
      "******\n",
      "*******\n",
      "********\n",
      "*********\n"
     ]
    }
   ],
   "source": [
    "#OJ9\n",
    "a=int(input(\"\"))\n",
    "for i in range(1,a+1,1):\n",
    "    print(\"*\"*i)"
   ]
  },
  {
   "cell_type": "code",
   "execution_count": 4,
   "metadata": {},
   "outputs": [
    {
     "name": "stdout",
     "output_type": "stream",
     "text": [
      "1\n",
      "12\n",
      "123\n",
      "1234\n",
      "12345\n",
      "123456\n",
      "1234567\n",
      "12345678\n",
      "123456789\n",
      "12345678910\n",
      "1234567891011\n",
      "123456789101112\n",
      "12345678910111213\n"
     ]
    }
   ],
   "source": [
    "#OJ10\n",
    "n = int(input())\n",
    "\n",
    "for i in range(1, n + 1):\n",
    "    print(\"\".join(str(num) for num in range(1, i + 1)))\n",
    "      #join 使用字串作為每個元素之間的分隔符號，將可迭代元素串接起來。\n",
    "      #它傳回一個新的字串，其中包含所有可迭代元素，並以指定的字串串接在一起\n",
    "    #num 當作當前行的數字起始值"
   ]
  },
  {
   "cell_type": "code",
   "execution_count": null,
   "metadata": {},
   "outputs": [],
   "source": [
    "#OJ14\n",
    "a,b,c=input('').split()\n",
    "a1=int(a)\n",
    "b1=int(b)\n",
    "c1=int(c)\n",
    "\n",
    "if a1+b1>c1 and a1+c1>b1 and b1+c1>a1:\n",
    "    print(\"Valid\")\n",
    "else:\n",
    "    print(\"Invalid\")"
   ]
  },
  {
   "cell_type": "code",
   "execution_count": 5,
   "metadata": {},
   "outputs": [
    {
     "name": "stdout",
     "output_type": "stream",
     "text": [
      "cake banana apple "
     ]
    }
   ],
   "source": [
    "#OJ15\n",
    "a=input().split()\n",
    "b=len(a)\n",
    "for i in range(b,0,-1):\n",
    "    print(a[i-1],end=\" \")"
   ]
  },
  {
   "cell_type": "code",
   "execution_count": 8,
   "metadata": {},
   "outputs": [
    {
     "name": "stdout",
     "output_type": "stream",
     "text": [
      "2100 is common year\n"
     ]
    }
   ],
   "source": [
    "#OJ18\n",
    "year=int(input(\"\"))\n",
    "if (year % 4==0 and year%100!=0) or year%400==0:\n",
    "    print(year,\"is leap year\")\n",
    "else:\n",
    "    print(year,\"is common year\")"
   ]
  },
  {
   "cell_type": "code",
   "execution_count": 17,
   "metadata": {},
   "outputs": [
    {
     "name": "stdout",
     "output_type": "stream",
     "text": [
      "5*1=5 5*2=10 5*3=15 5*4=20 5*5=25 5*6=30 5*7=35 5*8=40 5*9=45 \n",
      "6*1=6 6*2=12 6*3=18 6*4=24 6*5=30 6*6=36 6*7=42 6*8=48 6*9=54 \n",
      "7*1=7 7*2=14 7*3=21 7*4=28 7*5=35 7*6=42 7*7=49 7*8=56 7*9=63 \n",
      "8*1=8 8*2=16 8*3=24 8*4=32 8*5=40 8*6=48 8*7=56 8*8=64 8*9=72 \n",
      "9*1=9 9*2=18 9*3=27 9*4=36 9*5=45 9*6=54 9*7=63 9*8=72 9*9=81 \n"
     ]
    }
   ],
   "source": [
    "#OJ19\n",
    "a=int(input(\"\"))\n",
    "for j in range(a,10):\n",
    "    for i in range(1,10):\n",
    "        print(\"%d*%d=%d\" % (j,i,i*j),end=\" \")\n",
    "    print()\n"
   ]
  },
  {
   "cell_type": "code",
   "execution_count": 18,
   "metadata": {},
   "outputs": [
    {
     "name": "stdout",
     "output_type": "stream",
     "text": [
      "Ans apple\n"
     ]
    }
   ],
   "source": [
    "#OJ21\n",
    "a=input(\"\")\n",
    "print(\"Ans\",a)"
   ]
  },
  {
   "cell_type": "code",
   "execution_count": 21,
   "metadata": {},
   "outputs": [
    {
     "name": "stdout",
     "output_type": "stream",
     "text": [
      "31\n"
     ]
    }
   ],
   "source": [
    "#OJ22\n",
    "a,b,c,d,e,f,g,h,i=map(int,input().split())\n",
    "j=a+b+c+d+e+f+g+h+i\n",
    "print(j)"
   ]
  },
  {
   "cell_type": "code",
   "execution_count": 24,
   "metadata": {},
   "outputs": [
    {
     "name": "stdout",
     "output_type": "stream",
     "text": [
      "16\n"
     ]
    }
   ],
   "source": [
    "#OJ23\n",
    "str=input(\"\")\n",
    "print(len(str))"
   ]
  },
  {
   "cell_type": "code",
   "execution_count": 33,
   "metadata": {},
   "outputs": [
    {
     "name": "stdout",
     "output_type": "stream",
     "text": [
      "-4 is error\n"
     ]
    }
   ],
   "source": [
    "#OJ26\n",
    "grade=int(input(\"\"))\n",
    "if grade<0:\n",
    "    print(grade,\"is error\")\n",
    "elif grade>=90 and grade<100:\n",
    "    print(grade,\"is A\")\n",
    "elif grade>=80 and grade<=89:\n",
    "    print(grade,\"is B\")\n",
    "elif grade>=70 and grade<=79:\n",
    "    print(grade,\"is C\")\n",
    "elif grade>=60 and grade<=69:\n",
    "    print(grade,\"is D\")\n",
    "elif grade>=0 and grade<=59:\n",
    "    print(grade,\"is E\")\n",
    "else:\n",
    "    print(grade,\"is error\")\n"
   ]
  },
  {
   "cell_type": "code",
   "execution_count": 39,
   "metadata": {},
   "outputs": [
    {
     "name": "stdout",
     "output_type": "stream",
     "text": [
      "95% discount is 9500.0\n"
     ]
    }
   ],
   "source": [
    "#OJ29\n",
    "m=int(input(''))\n",
    "if m>=100000:\n",
    "    print(\"80% discount is\",m*0.8)\n",
    "elif m>=50000:\n",
    "    print(\"85% discount is\",m*0.85)\n",
    "elif m>=30000:\n",
    "    print(\"90% discount is\",m*0.9)\n",
    "elif m>=10000:\n",
    "    print(\"95% discount is\",m*0.95)\n",
    "else:\n",
    "    print(\"no discount is\",m)\n",
    "\n"
   ]
  },
  {
   "cell_type": "code",
   "execution_count": 40,
   "metadata": {},
   "outputs": [
    {
     "name": "stdout",
     "output_type": "stream",
     "text": [
      "0,5,10,15,20,25,30,35,40,45,50,55,60,65,70,75,80,85,90,95,"
     ]
    }
   ],
   "source": [
    "#OJ30\n",
    "a,b,c=input().split()\n",
    "a1=int(a)\n",
    "b1=int(b)\n",
    "c1=int(c)\n",
    "for i in range(a1,b1,c1):\n",
    "    print(i,end=\",\")\n"
   ]
  },
  {
   "cell_type": "code",
   "execution_count": 41,
   "metadata": {},
   "outputs": [
    {
     "name": "stdout",
     "output_type": "stream",
     "text": [
      "[3, 4, 5, 6, 7]\n"
     ]
    }
   ],
   "source": [
    "#OJ32\n",
    "a,b,c=input().split()\n",
    "a1=int(a)\n",
    "b1=int(b)\n",
    "c1=int(c)\n",
    "d=range(a1,b1,c1)\n",
    "print(list(d))\n"
   ]
  },
  {
   "cell_type": "code",
   "execution_count": 46,
   "metadata": {},
   "outputs": [
    {
     "name": "stdout",
     "output_type": "stream",
     "text": [
      "Valid\n"
     ]
    }
   ],
   "source": [
    "#OJ33\n",
    "a,b,c=input('').split()\n",
    "a1=int(a)\n",
    "b1=int(b)\n",
    "c1=int(c)\n",
    "\n",
    "if a1==b1 or a1==c1 or b1==c1:\n",
    "    print(\"Valid\")\n",
    "else:\n",
    "    print(\"Invalid\")\n"
   ]
  },
  {
   "cell_type": "code",
   "execution_count": 51,
   "metadata": {},
   "outputs": [
    {
     "name": "stdout",
     "output_type": "stream",
     "text": [
      "park time:6h:9m\n",
      "pay:260 money\n"
     ]
    }
   ],
   "source": [
    "#OJ34\n",
    "a=int(input())\n",
    "b=a//60 #//取得商數\n",
    "c=a%60 #取得餘數\n",
    "\n",
    "if a<=60: #停車未滿1小時,收費20$\n",
    "    fee=20\n",
    "elif 60<a<=420: #停車超過7小時,收費20+hr*40$\n",
    "    fee=20+b*40\n",
    "else:\n",
    "    fee=300 #當日最高收費300$\n",
    "\n",
    "print(f\"park time:{b}h:{c}m\")\n",
    "print(f\"pay:{fee} money\")\n"
   ]
  },
  {
   "cell_type": "code",
   "execution_count": null,
   "metadata": {},
   "outputs": [],
   "source": [
    "#OJ35"
   ]
  },
  {
   "cell_type": "code",
   "execution_count": 2,
   "metadata": {},
   "outputs": [
    {
     "name": "stdout",
     "output_type": "stream",
     "text": [
      "t=5.0 b4.0 h=5.0 area=22.5\n"
     ]
    }
   ],
   "source": [
    "#OJ40\n",
    "a=float(input())\n",
    "b=float(input())\n",
    "c=float(input())\n",
    "d=(a+b)*c/2\n",
    "print(\"t=%s b=%s h=%s area=%s\" % (a,b,c,d))"
   ]
  },
  {
   "cell_type": "code",
   "execution_count": 9,
   "metadata": {},
   "outputs": [
    {
     "name": "stdout",
     "output_type": "stream",
     "text": [
      "0.0\n"
     ]
    }
   ],
   "source": [
    "#OJ41\n",
    "a=float(input())\n",
    "b=float(input())\n",
    "print(a%b)"
   ]
  },
  {
   "cell_type": "code",
   "execution_count": null,
   "metadata": {},
   "outputs": [],
   "source": [
    "#OJ43"
   ]
  }
 ],
 "metadata": {
  "kernelspec": {
   "display_name": "Python 3",
   "language": "python",
   "name": "python3"
  },
  "language_info": {
   "codemirror_mode": {
    "name": "ipython",
    "version": 3
   },
   "file_extension": ".py",
   "mimetype": "text/x-python",
   "name": "python",
   "nbconvert_exporter": "python",
   "pygments_lexer": "ipython3",
   "version": "3.12.4"
  }
 },
 "nbformat": 4,
 "nbformat_minor": 2
}
