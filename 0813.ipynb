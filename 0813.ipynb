{
 "cells": [
  {
   "cell_type": "code",
   "execution_count": 1,
   "metadata": {},
   "outputs": [
    {
     "name": "stdout",
     "output_type": "stream",
     "text": [
      "0813\n"
     ]
    }
   ],
   "source": [
    "print(\"0813\")\n"
   ]
  },
  {
   "cell_type": "code",
   "execution_count": 2,
   "metadata": {},
   "outputs": [
    {
     "name": "stdout",
     "output_type": "stream",
     "text": [
      "密碼正確\n",
      "歡迎光臨!\n"
     ]
    }
   ],
   "source": [
    "密碼=int(input(\"請輸入密碼:\"))\n",
    "if 密碼 ==1234:\n",
    "    print(\"密碼正確\")\n",
    "    print(\"歡迎光臨!\")\n",
    "else:\n",
    "    print(\"密碼錯誤\")\n",
    "\n"
   ]
  },
  {
   "cell_type": "code",
   "execution_count": 4,
   "metadata": {},
   "outputs": [
    {
     "name": "stdout",
     "output_type": "stream",
     "text": [
      "出門記得帶傘!\n"
     ]
    }
   ],
   "source": [
    "rain=input(\"今天會下雨嗎?\")\n",
    "if rain==\"Y\"or rain==\"y\":\n",
    "    print(\"出門記得帶傘!\")\n",
    "else:\n",
    "    print(\"不用帶傘\")"
   ]
  },
  {
   "cell_type": "code",
   "execution_count": 3,
   "metadata": {},
   "outputs": [
    {
     "name": "stdout",
     "output_type": "stream",
     "text": [
      "你輸入的數字是偶數\n"
     ]
    }
   ],
   "source": [
    "偶數判斷=int(input(\"請輸入一個整數\"))\n",
    "if 偶數判斷%2==0:\n",
    "    print('你輸入的數字是偶數')\n",
    "else:\n",
    "    print(\"你輸入的數字是奇數\")"
   ]
  },
  {
   "cell_type": "code",
   "execution_count": 16,
   "metadata": {},
   "outputs": [
    {
     "name": "stdout",
     "output_type": "stream",
     "text": [
      "體溫異常，請重新檢測!\n"
     ]
    }
   ],
   "source": [
    "體溫=float(input(\"請輸入體溫\"))\n",
    "if 體溫>=37.5:\n",
    "    print(\"體溫過高!\")\n",
    "elif 37<=體溫<=37.4:\n",
    "    print(\"體溫略高!\")\n",
    "elif 34<=體溫<=36.9:\n",
    "    print(\"體溫正常!\")\n",
    "else:\n",
    "    print(\"體溫異常，請重新檢測!\")\n"
   ]
  },
  {
   "cell_type": "code",
   "execution_count": 19,
   "metadata": {},
   "outputs": [
    {
     "name": "stdout",
     "output_type": "stream",
     "text": [
      "E\n"
     ]
    }
   ],
   "source": [
    "grade=int(input(\"請輸入成績\"))\n",
    "if grade>=90:\n",
    "    print(\"A\")\n",
    "elif 80<=grade<=89:\n",
    "    print(\"B\")\n",
    "elif 70<=grade<=79:\n",
    "    print(\"C\")\n",
    "elif 60<=grade<=69:\n",
    "    print(\"D\")\n",
    "else:\n",
    "    print(\"E\")\n"
   ]
  },
  {
   "cell_type": "code",
   "execution_count": 21,
   "metadata": {},
   "outputs": [
    {
     "name": "stdout",
     "output_type": "stream",
     "text": [
      "527.4\n"
     ]
    }
   ],
   "source": [
    "價格=int(input(\"請輸入價格\"))\n",
    "if 價格>1000:\n",
    "    print(價格*0.8)\n",
    "elif 500<=價格<=1000:\n",
    "    print(價格*0.9)\n",
    "else:\n",
    "    print(價格)"
   ]
  },
  {
   "cell_type": "code",
   "execution_count": 24,
   "metadata": {},
   "outputs": [
    {
     "name": "stdout",
     "output_type": "stream",
     "text": [
      "油量不足，建議加油\n"
     ]
    }
   ],
   "source": [
    "油量=int(input(\"請輸入剩餘油量\"))\n",
    "if 油量<5:\n",
    "    print(\"需要立即加油!\")\n",
    "elif 5<=油量<=10:\n",
    "    print(\"油量不足，建議加油\")\n",
    "else:\n",
    "    print(\"油量充足\")\n"
   ]
  },
  {
   "cell_type": "code",
   "execution_count": 30,
   "metadata": {},
   "outputs": [
    {
     "name": "stdout",
     "output_type": "stream",
     "text": [
      "4900\n"
     ]
    }
   ],
   "source": [
    "轉帳金額=int(input(\"請輸入金額\"))\n",
    "if 轉帳金額<=1000:\n",
    "    print(轉帳金額-150)\n",
    "elif 1000<=轉帳金額<=5000:\n",
    "    print(轉帳金額-100)\n",
    "elif 5000<=轉帳金額<=10000:\n",
    "    print(轉帳金額-50)\n",
    "else:\n",
    "    print(轉帳金額)"
   ]
  },
  {
   "cell_type": "code",
   "execution_count": 36,
   "metadata": {},
   "outputs": [
    {
     "name": "stdout",
     "output_type": "stream",
     "text": [
      "5 is spring\n"
     ]
    }
   ],
   "source": [
    "mon =int(input())\n",
    "if 3<=mon<=5:\n",
    "    print(mon,\"is spring\")\n",
    "elif 6<=mon<=8:\n",
    "    print(mon,\"is summer\")\n",
    "elif 9<=mon<=11:\n",
    "    print(mon,\"is autumn\")\n",
    "elif mon==12 and 1<=mon<=2:\n",
    "    print(mon,\"is winter\")\n",
    "else:\n",
    "    print(\"Input Error\")"
   ]
  },
  {
   "cell_type": "code",
   "execution_count": 37,
   "metadata": {},
   "outputs": [],
   "source": [
    "c = range(3, 8, 1)  # 3,4,5,6,7 \n",
    "d = range(3, 8, 2)  # 3,5,7 \n",
    "e = range(8, 3, -1) # 8,7,6,5,4\n"
   ]
  },
  {
   "cell_type": "code",
   "execution_count": 38,
   "metadata": {},
   "outputs": [
    {
     "name": "stdout",
     "output_type": "stream",
     "text": [
      "[3, 4, 5, 6, 7]\n"
     ]
    }
   ],
   "source": [
    "print(list(c))\n"
   ]
  },
  {
   "cell_type": "code",
   "execution_count": 40,
   "metadata": {},
   "outputs": [
    {
     "name": "stdout",
     "output_type": "stream",
     "text": [
      "<class 'range'>\n"
     ]
    }
   ],
   "source": [
    "print(type(c))\n"
   ]
  },
  {
   "cell_type": "code",
   "execution_count": 42,
   "metadata": {},
   "outputs": [
    {
     "name": "stdout",
     "output_type": "stream",
     "text": [
      "0\n",
      "1\n",
      "2\n",
      "3\n",
      "4\n"
     ]
    }
   ],
   "source": [
    "for i in range(5):\n",
    "    print(i)\n",
    "#range(5)=0 1 2 3 4\n"
   ]
  },
  {
   "cell_type": "code",
   "execution_count": 49,
   "metadata": {},
   "outputs": [],
   "source": [
    "b=range(9)"
   ]
  },
  {
   "cell_type": "code",
   "execution_count": 50,
   "metadata": {},
   "outputs": [
    {
     "name": "stdout",
     "output_type": "stream",
     "text": [
      "[0, 1, 2, 3, 4, 5, 6, 7, 8]\n"
     ]
    }
   ],
   "source": [
    "print(list(b))"
   ]
  },
  {
   "cell_type": "code",
   "execution_count": 43,
   "metadata": {},
   "outputs": [
    {
     "name": "stdout",
     "output_type": "stream",
     "text": [
      "0\n",
      "1\n",
      "2\n",
      "3\n",
      "4\n",
      "5\n",
      "6\n",
      "7\n",
      "8\n"
     ]
    }
   ],
   "source": [
    "for i in range(9):\n",
    "    print(i)"
   ]
  },
  {
   "cell_type": "code",
   "execution_count": 47,
   "metadata": {},
   "outputs": [],
   "source": [
    "a=range(1,10,1)\n",
    "#range(起始值,終止值,間隔值)"
   ]
  },
  {
   "cell_type": "code",
   "execution_count": 48,
   "metadata": {},
   "outputs": [
    {
     "name": "stdout",
     "output_type": "stream",
     "text": [
      "[1, 2, 3, 4, 5, 6, 7, 8, 9]\n"
     ]
    }
   ],
   "source": [
    "print(list(a))"
   ]
  },
  {
   "cell_type": "code",
   "execution_count": 52,
   "metadata": {},
   "outputs": [],
   "source": [
    "e=range(1,10,2)"
   ]
  },
  {
   "cell_type": "code",
   "execution_count": 53,
   "metadata": {},
   "outputs": [
    {
     "name": "stdout",
     "output_type": "stream",
     "text": [
      "[1, 3, 5, 7, 9]\n"
     ]
    }
   ],
   "source": [
    "print(list(e))"
   ]
  },
  {
   "cell_type": "code",
   "execution_count": 70,
   "metadata": {},
   "outputs": [],
   "source": [
    "g=range(10,1,-2)"
   ]
  },
  {
   "cell_type": "code",
   "execution_count": 71,
   "metadata": {},
   "outputs": [
    {
     "name": "stdout",
     "output_type": "stream",
     "text": [
      "[10, 8, 6, 4, 2]\n"
     ]
    }
   ],
   "source": [
    "print(list(g))"
   ]
  },
  {
   "cell_type": "code",
   "execution_count": 73,
   "metadata": {},
   "outputs": [
    {
     "name": "stdout",
     "output_type": "stream",
     "text": [
      "1 2 3 4 5 "
     ]
    }
   ],
   "source": [
    "for i in range(1,6,1):\n",
    "    print(i,end=\" \")"
   ]
  },
  {
   "cell_type": "code",
   "execution_count": 74,
   "metadata": {},
   "outputs": [
    {
     "name": "stdout",
     "output_type": "stream",
     "text": [
      "1 2 3 4 5 6 7 8 9 10 11 12 "
     ]
    }
   ],
   "source": [
    "for i in range(1,13,1):\n",
    "    print(i,end=\" \")\n",
    "    "
   ]
  },
  {
   "cell_type": "code",
   "execution_count": 76,
   "metadata": {},
   "outputs": [
    {
     "name": "stdout",
     "output_type": "stream",
     "text": [
      "3\n"
     ]
    }
   ],
   "source": [
    "sum=0\n",
    "#sum用來計算串列中所有數值元素的總和\n",
    "for n in range(3):\n",
    "    sum=sum+n\n",
    "print(sum)"
   ]
  },
  {
   "cell_type": "code",
   "execution_count": 79,
   "metadata": {},
   "outputs": [
    {
     "name": "stdout",
     "output_type": "stream",
     "text": [
      "55\n"
     ]
    }
   ],
   "source": [
    "sum=0\n",
    "for n in range(11):\n",
    "    #range(11)=1-10\n",
    "    sum=sum+n\n",
    "print(sum)\n",
    "#1~10的整數和"
   ]
  },
  {
   "cell_type": "code",
   "execution_count": 80,
   "metadata": {},
   "outputs": [
    {
     "name": "stdout",
     "output_type": "stream",
     "text": [
      "1275\n"
     ]
    }
   ],
   "source": [
    "sum=0\n",
    "for n in range(51):\n",
    "    #range(51)=1-50\n",
    "    sum=sum+n\n",
    "print(sum)\n",
    "#1~50的整數和"
   ]
  },
  {
   "cell_type": "code",
   "execution_count": 99,
   "metadata": {},
   "outputs": [
    {
     "name": "stdout",
     "output_type": "stream",
     "text": [
      "1到 10 的整數和為: 55\n"
     ]
    }
   ],
   "source": [
    "sum=0\n",
    "正整數=int(input(\"請輸入一個正整數\"))\n",
    "for n in range(1,正整數+1):\n",
    "    sum=sum+n\n",
    "print(\"1到\",正整數,\"的整數和為:\",sum)"
   ]
  },
  {
   "cell_type": "code",
   "execution_count": 96,
   "metadata": {},
   "outputs": [
    {
     "name": "stdout",
     "output_type": "stream",
     "text": [
      "1到 1 的整數和為: 1\n",
      "1到 2 的整數和為: 3\n",
      "1到 3 的整數和為: 6\n",
      "1到 4 的整數和為: 10\n",
      "1到 5 的整數和為: 15\n",
      "1到 6 的整數和為: 21\n",
      "1到 7 的整數和為: 28\n",
      "1到 8 的整數和為: 36\n",
      "1到 9 的整數和為: 45\n",
      "1到 10 的整數和為: 55\n"
     ]
    }
   ],
   "source": [
    "sum=0\n",
    "正整數=int(input(\"請輸入一個正整數\"))\n",
    "for n in range(1,正整數+1):\n",
    "    #range(初始,終止)\n",
    "    sum=sum+n\n",
    "    print(\"1到\",n,\"的整數和為:\",sum)"
   ]
  },
  {
   "cell_type": "code",
   "execution_count": 103,
   "metadata": {},
   "outputs": [],
   "source": [
    "u=range(0,101,2)"
   ]
  },
  {
   "cell_type": "code",
   "execution_count": 104,
   "metadata": {},
   "outputs": [
    {
     "name": "stdout",
     "output_type": "stream",
     "text": [
      "[0, 2, 4, 6, 8, 10, 12, 14, 16, 18, 20, 22, 24, 26, 28, 30, 32, 34, 36, 38, 40, 42, 44, 46, 48, 50, 52, 54, 56, 58, 60, 62, 64, 66, 68, 70, 72, 74, 76, 78, 80, 82, 84, 86, 88, 90, 92, 94, 96, 98, 100]\n"
     ]
    }
   ],
   "source": [
    "print(list(u))"
   ]
  },
  {
   "cell_type": "code",
   "execution_count": 115,
   "metadata": {},
   "outputs": [
    {
     "name": "stdout",
     "output_type": "stream",
     "text": [
      "1到 100 的整數和為: 2550\n"
     ]
    }
   ],
   "source": [
    "\n",
    "#計算偶數和\n",
    "sum=0\n",
    "for i in range(2,101,2):\n",
    "    sum=sum+i\n",
    "print(\"1到\",i,\"的整數和為:\",sum)   \n"
   ]
  },
  {
   "cell_type": "code",
   "execution_count": 116,
   "metadata": {},
   "outputs": [
    {
     "name": "stdout",
     "output_type": "stream",
     "text": [
      "10\n",
      "9\n",
      "8\n",
      "7\n",
      "6\n",
      "5\n",
      "4\n",
      "3\n",
      "2\n",
      "1\n",
      "倒數結束!\n"
     ]
    }
   ],
   "source": [
    "#倒數顯示\n",
    "sum=0\n",
    "for i in range(10,0,-1):\n",
    "    print(i)\n",
    "print(\"倒數結束!\")"
   ]
  },
  {
   "cell_type": "code",
   "execution_count": 123,
   "metadata": {},
   "outputs": [
    {
     "name": "stdout",
     "output_type": "stream",
     "text": [
      "1\n",
      "4\n",
      "9\n",
      "16\n",
      "25\n",
      "36\n",
      "49\n",
      "64\n",
      "81\n",
      "100\n"
     ]
    }
   ],
   "source": [
    "#生成平方數列\n",
    "for i in range(1,11,1):\n",
    "    print(i**2)"
   ]
  },
  {
   "cell_type": "code",
   "execution_count": 124,
   "metadata": {},
   "outputs": [
    {
     "name": "stdout",
     "output_type": "stream",
     "text": [
      "3\n",
      "7\n",
      "11\n",
      "15\n",
      "19\n",
      "23\n",
      "27\n"
     ]
    }
   ],
   "source": [
    "#生成等差數列\n",
    "sum=0\n",
    "for i in range(3,31,4):\n",
    "    print(i)"
   ]
  },
  {
   "cell_type": "code",
   "execution_count": 133,
   "metadata": {},
   "outputs": [
    {
     "name": "stdout",
     "output_type": "stream",
     "text": [
      "26\n",
      "27\n",
      "28\n",
      "29\n",
      "30\n",
      "31\n",
      "32\n",
      "33\n",
      "34\n",
      "35\n",
      "36\n",
      "37\n",
      "38\n",
      "39\n",
      "40\n",
      "41\n",
      "42\n",
      "43\n",
      "44\n",
      "45\n",
      "46\n",
      "47\n",
      "48\n",
      "49\n",
      "50\n"
     ]
    }
   ],
   "source": [
    "#找出大於某值的數字\n",
    "sum=0\n",
    "for i in range(10,51):\n",
    "    if i>25:\n",
    "        print(i)\n",
    "\n"
   ]
  },
  {
   "cell_type": "code",
   "execution_count": 134,
   "metadata": {},
   "outputs": [
    {
     "name": "stdout",
     "output_type": "stream",
     "text": [
      "1+3+5...199= 10000\n"
     ]
    }
   ],
   "source": [
    "#求1+3+5+...199之和\n",
    "jsum=0\n",
    "#j防呆 找bug用\n",
    "for j in range(1,200,2):\n",
    "    jsum+=j\n",
    "    #print(j)\n",
    "print(\"1+3+5...199=\",jsum)\n",
    "#print(f'1+3+5...+199={jsum}')\n"
   ]
  },
  {
   "cell_type": "code",
   "execution_count": 135,
   "metadata": {},
   "outputs": [
    {
     "name": "stdout",
     "output_type": "stream",
     "text": [
      "(-9+-7+-5+...+-1= -25 )\n"
     ]
    }
   ],
   "source": [
    "#求-9+-7+-5+...+-1之和\n",
    "sum=0\n",
    "for j in range(-9,0,2):\n",
    "    sum+=j\n",
    "    #print(j)\n",
    "print(\"(-9+-7+-5+...+-1=\",sum,\")\")\n"
   ]
  },
  {
   "cell_type": "code",
   "execution_count": 136,
   "metadata": {},
   "outputs": [
    {
     "name": "stdout",
     "output_type": "stream",
     "text": [
      "M\n",
      "a\n",
      "y\n",
      "End!!\n"
     ]
    }
   ],
   "source": [
    "#for...in字串物件:\n",
    "for j in \"May\":\n",
    "    print(j)\n",
    "print(\"End!!\")"
   ]
  },
  {
   "cell_type": "code",
   "execution_count": 137,
   "metadata": {},
   "outputs": [
    {
     "name": "stdout",
     "output_type": "stream",
     "text": [
      "5\n",
      "2\n",
      "8\n",
      "End!!\n"
     ]
    }
   ],
   "source": [
    "#for...in串列物件:\n",
    "for j in [5,2,8]:\n",
    "    print(j)\n",
    "print(\"End!!\")"
   ]
  },
  {
   "cell_type": "code",
   "execution_count": 149,
   "metadata": {},
   "outputs": [
    {
     "name": "stdout",
     "output_type": "stream",
     "text": [
      "2+3*4-5/2的結果是:11.0\n"
     ]
    }
   ],
   "source": [
    "#實習-1\n",
    "result=2+3*4-6/2\n",
    "print(f'2+3*4-5/2的結果是:{result}')"
   ]
  },
  {
   "cell_type": "code",
   "execution_count": 144,
   "metadata": {},
   "outputs": [
    {
     "name": "stdout",
     "output_type": "stream",
     "text": [
      "圓的面積是: 78.5 圓的周長是: 31.4\n"
     ]
    }
   ],
   "source": [
    "#實習-2\n",
    "import math\n",
    "\n",
    "r=float(input('請輸入圓的半徑'))\n",
    "面積=r*r*3.14 #3.14=pi\n",
    "周長=2*r*3.14\n",
    "周長2=round(周長,2)\n",
    "print(\"圓的面積是:\",面積,\"圓的周長是:\",周長2)"
   ]
  },
  {
   "cell_type": "code",
   "execution_count": null,
   "metadata": {},
   "outputs": [],
   "source": []
  },
  {
   "cell_type": "code",
   "execution_count": null,
   "metadata": {},
   "outputs": [],
   "source": []
  },
  {
   "cell_type": "code",
   "execution_count": null,
   "metadata": {},
   "outputs": [],
   "source": []
  },
  {
   "cell_type": "code",
   "execution_count": null,
   "metadata": {},
   "outputs": [],
   "source": []
  },
  {
   "cell_type": "code",
   "execution_count": null,
   "metadata": {},
   "outputs": [],
   "source": []
  },
  {
   "cell_type": "code",
   "execution_count": null,
   "metadata": {},
   "outputs": [],
   "source": []
  },
  {
   "cell_type": "code",
   "execution_count": null,
   "metadata": {},
   "outputs": [],
   "source": []
  }
 ],
 "metadata": {
  "kernelspec": {
   "display_name": "Python 3",
   "language": "python",
   "name": "python3"
  },
  "language_info": {
   "codemirror_mode": {
    "name": "ipython",
    "version": 3
   },
   "file_extension": ".py",
   "mimetype": "text/x-python",
   "name": "python",
   "nbconvert_exporter": "python",
   "pygments_lexer": "ipython3",
   "version": "3.12.4"
  }
 },
 "nbformat": 4,
 "nbformat_minor": 2
}
