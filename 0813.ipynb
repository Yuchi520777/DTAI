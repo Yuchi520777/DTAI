{
 "cells": [
  {
   "cell_type": "code",
   "execution_count": 1,
   "metadata": {},
   "outputs": [
    {
     "name": "stdout",
     "output_type": "stream",
     "text": [
      "0813\n"
     ]
    }
   ],
   "source": [
    "print(\"0813\")\n"
   ]
  },
  {
   "cell_type": "code",
   "execution_count": 2,
   "metadata": {},
   "outputs": [
    {
     "name": "stdout",
     "output_type": "stream",
     "text": [
      "密碼正確\n",
      "歡迎光臨!\n"
     ]
    }
   ],
   "source": [
    "密碼=int(input(\"請輸入密碼:\"))\n",
    "if 密碼 ==1234:\n",
    "    print(\"密碼正確\")\n",
    "    print(\"歡迎光臨!\")\n",
    "else:\n",
    "    print(\"密碼錯誤\")\n",
    "\n"
   ]
  },
  {
   "cell_type": "code",
   "execution_count": 4,
   "metadata": {},
   "outputs": [
    {
     "name": "stdout",
     "output_type": "stream",
     "text": [
      "出門記得帶傘!\n"
     ]
    }
   ],
   "source": [
    "rain=input(\"今天會下雨嗎?\")\n",
    "if rain==\"Y\"or rain==\"y\":\n",
    "    print(\"出門記得帶傘!\")\n",
    "else:\n",
    "    print(\"不用帶傘\")"
   ]
  },
  {
   "cell_type": "code",
   "execution_count": 3,
   "metadata": {},
   "outputs": [
    {
     "name": "stdout",
     "output_type": "stream",
     "text": [
      "你輸入的數字是偶數\n"
     ]
    }
   ],
   "source": [
    "偶數判斷=int(input(\"請輸入一個整數\"))\n",
    "if 偶數判斷%2==0:\n",
    "    print('你輸入的數字是偶數')\n",
    "else:\n",
    "    print(\"你輸入的數字是奇數\")"
   ]
  },
  {
   "cell_type": "code",
   "execution_count": 16,
   "metadata": {},
   "outputs": [
    {
     "name": "stdout",
     "output_type": "stream",
     "text": [
      "體溫異常，請重新檢測!\n"
     ]
    }
   ],
   "source": [
    "體溫=float(input(\"請輸入體溫\"))\n",
    "if 體溫>=37.5:\n",
    "    print(\"體溫過高!\")\n",
    "elif 37<=體溫<=37.4:\n",
    "    print(\"體溫略高!\")\n",
    "elif 34<=體溫<=36.9:\n",
    "    print(\"體溫正常!\")\n",
    "else:\n",
    "    print(\"體溫異常，請重新檢測!\")\n"
   ]
  },
  {
   "cell_type": "code",
   "execution_count": 19,
   "metadata": {},
   "outputs": [
    {
     "name": "stdout",
     "output_type": "stream",
     "text": [
      "E\n"
     ]
    }
   ],
   "source": [
    "grade=int(input(\"請輸入成績\"))\n",
    "if grade>=90:\n",
    "    print(\"A\")\n",
    "elif 80<=grade<=89:\n",
    "    print(\"B\")\n",
    "elif 70<=grade<=79:\n",
    "    print(\"C\")\n",
    "elif 60<=grade<=69:\n",
    "    print(\"D\")\n",
    "else:\n",
    "    print(\"E\")\n"
   ]
  },
  {
   "cell_type": "code",
   "execution_count": 21,
   "metadata": {},
   "outputs": [
    {
     "name": "stdout",
     "output_type": "stream",
     "text": [
      "527.4\n"
     ]
    }
   ],
   "source": [
    "價格=int(input(\"請輸入價格\"))\n",
    "if 價格>1000:\n",
    "    print(價格*0.8)\n",
    "elif 500<=價格<=1000:\n",
    "    print(價格*0.9)\n",
    "else:\n",
    "    print(價格)"
   ]
  },
  {
   "cell_type": "code",
   "execution_count": 24,
   "metadata": {},
   "outputs": [
    {
     "name": "stdout",
     "output_type": "stream",
     "text": [
      "油量不足，建議加油\n"
     ]
    }
   ],
   "source": [
    "油量=int(input(\"請輸入剩餘油量\"))\n",
    "if 油量<5:\n",
    "    print(\"需要立即加油!\")\n",
    "elif 5<=油量<=10:\n",
    "    print(\"油量不足，建議加油\")\n",
    "else:\n",
    "    print(\"油量充足\")\n"
   ]
  },
  {
   "cell_type": "code",
   "execution_count": 30,
   "metadata": {},
   "outputs": [
    {
     "name": "stdout",
     "output_type": "stream",
     "text": [
      "4900\n"
     ]
    }
   ],
   "source": [
    "轉帳金額=int(input(\"請輸入金額\"))\n",
    "if 轉帳金額<=1000:\n",
    "    print(轉帳金額-150)\n",
    "elif 1000<=轉帳金額<=5000:\n",
    "    print(轉帳金額-100)\n",
    "elif 5000<=轉帳金額<=10000:\n",
    "    print(轉帳金額-50)\n",
    "else:\n",
    "    print(轉帳金額)"
   ]
  },
  {
   "cell_type": "code",
   "execution_count": null,
   "metadata": {},
   "outputs": [],
   "source": []
  },
  {
   "cell_type": "code",
   "execution_count": null,
   "metadata": {},
   "outputs": [],
   "source": []
  },
  {
   "cell_type": "code",
   "execution_count": null,
   "metadata": {},
   "outputs": [],
   "source": []
  }
 ],
 "metadata": {
  "kernelspec": {
   "display_name": "Python 3",
   "language": "python",
   "name": "python3"
  },
  "language_info": {
   "codemirror_mode": {
    "name": "ipython",
    "version": 3
   },
   "file_extension": ".py",
   "mimetype": "text/x-python",
   "name": "python",
   "nbconvert_exporter": "python",
   "pygments_lexer": "ipython3",
   "version": "3.12.4"
  }
 },
 "nbformat": 4,
 "nbformat_minor": 2
}
