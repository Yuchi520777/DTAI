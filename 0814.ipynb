{
 "cells": [
  {
   "cell_type": "code",
   "execution_count": 1,
   "metadata": {},
   "outputs": [
    {
     "name": "stdout",
     "output_type": "stream",
     "text": [
      "1\n",
      "1 * 1 = 1\n",
      "1 * 2 = 2\n",
      "2\n",
      "2 * 1 = 2\n",
      "2 * 2 = 4\n",
      "3\n",
      "3 * 1 = 3\n",
      "3 * 2 = 6\n",
      "4\n",
      "4 * 1 = 4\n",
      "4 * 2 = 8\n"
     ]
    }
   ],
   "source": [
    "for j in range(1,5):\n",
    "    print(j)\n",
    "    for i in range(1,3):\n",
    "        k=i*j\n",
    "        print(j,\"*\",i,\"=\",k)\n",
    "    #縮排需準確\n",
    "    #運算順序:\n",
    "    # 1.迴圈 j 先保持在1，讓內層迴圈 i 由1到2繞完\n",
    "    # 2.迴圈j增加1 (j=2)，並且再進行一輪迴圈 i (i=1,2) \n",
    "    # 3.直到迴圈j全部繞完 (j=4) 為止\n"
   ]
  },
  {
   "cell_type": "code",
   "execution_count": 7,
   "metadata": {},
   "outputs": [
    {
     "name": "stdout",
     "output_type": "stream",
     "text": [
      "2\n",
      "2 * 1 = 2\n",
      "2 * 2 = 4\n",
      "2 * 3 = 6\n",
      "2 * 4 = 8\n",
      "2 * 5 = 10\n",
      "2 * 6 = 12\n",
      "2 * 7 = 14\n",
      "2 * 8 = 16\n",
      "2 * 9 = 18\n",
      "3\n",
      "3 * 1 = 3\n",
      "3 * 2 = 6\n",
      "3 * 3 = 9\n",
      "3 * 4 = 12\n",
      "3 * 5 = 15\n",
      "3 * 6 = 18\n",
      "3 * 7 = 21\n",
      "3 * 8 = 24\n",
      "3 * 9 = 27\n",
      "4\n",
      "4 * 1 = 4\n",
      "4 * 2 = 8\n",
      "4 * 3 = 12\n",
      "4 * 4 = 16\n",
      "4 * 5 = 20\n",
      "4 * 6 = 24\n",
      "4 * 7 = 28\n",
      "4 * 8 = 32\n",
      "4 * 9 = 36\n",
      "5\n",
      "5 * 1 = 5\n",
      "5 * 2 = 10\n",
      "5 * 3 = 15\n",
      "5 * 4 = 20\n",
      "5 * 5 = 25\n",
      "5 * 6 = 30\n",
      "5 * 7 = 35\n",
      "5 * 8 = 40\n",
      "5 * 9 = 45\n",
      "6\n",
      "6 * 1 = 6\n",
      "6 * 2 = 12\n",
      "6 * 3 = 18\n",
      "6 * 4 = 24\n",
      "6 * 5 = 30\n",
      "6 * 6 = 36\n",
      "6 * 7 = 42\n",
      "6 * 8 = 48\n",
      "6 * 9 = 54\n",
      "7\n",
      "7 * 1 = 7\n",
      "7 * 2 = 14\n",
      "7 * 3 = 21\n",
      "7 * 4 = 28\n",
      "7 * 5 = 35\n",
      "7 * 6 = 42\n",
      "7 * 7 = 49\n",
      "7 * 8 = 56\n",
      "7 * 9 = 63\n",
      "8\n",
      "8 * 1 = 8\n",
      "8 * 2 = 16\n",
      "8 * 3 = 24\n",
      "8 * 4 = 32\n",
      "8 * 5 = 40\n",
      "8 * 6 = 48\n",
      "8 * 7 = 56\n",
      "8 * 8 = 64\n",
      "8 * 9 = 72\n",
      "9\n",
      "9 * 1 = 9\n",
      "9 * 2 = 18\n",
      "9 * 3 = 27\n",
      "9 * 4 = 36\n",
      "9 * 5 = 45\n",
      "9 * 6 = 54\n",
      "9 * 7 = 63\n",
      "9 * 8 = 72\n",
      "9 * 9 = 81\n"
     ]
    }
   ],
   "source": [
    "for j in range(2,10):\n",
    "    print(j)\n",
    "    for i in range(1,10):\n",
    "        k=i*j\n",
    "        print(j,\"*\",i,\"=\",k)\n",
    "\n"
   ]
  },
  {
   "cell_type": "code",
   "execution_count": 14,
   "metadata": {},
   "outputs": [
    {
     "name": "stdout",
     "output_type": "stream",
     "text": [
      "1*2= 2 2*2= 4 3*2= 6 4*2= 8 5*2=10 6*2=12 7*2=14 8*2=16 9*2=18 \n",
      "1*3= 3 2*3= 6 3*3= 9 4*3=12 5*3=15 6*3=18 7*3=21 8*3=24 9*3=27 \n",
      "1*4= 4 2*4= 8 3*4=12 4*4=16 5*4=20 6*4=24 7*4=28 8*4=32 9*4=36 \n",
      "1*5= 5 2*5=10 3*5=15 4*5=20 5*5=25 6*5=30 7*5=35 8*5=40 9*5=45 \n",
      "1*6= 6 2*6=12 3*6=18 4*6=24 5*6=30 6*6=36 7*6=42 8*6=48 9*6=54 \n",
      "1*7= 7 2*7=14 3*7=21 4*7=28 5*7=35 6*7=42 7*7=49 8*7=56 9*7=63 \n",
      "1*8= 8 2*8=16 3*8=24 4*8=32 5*8=40 6*8=48 7*8=56 8*8=64 9*8=72 \n",
      "1*9= 9 2*9=18 3*9=27 4*9=36 5*9=45 6*9=54 7*9=63 8*9=72 9*9=81 \n"
     ]
    }
   ],
   "source": [
    "#方法1\n",
    "for j in range(2,10):#外層控制被乘數\n",
    "    for i in range(1,10):#內層控制被乘數\n",
    "        k=i*j\n",
    "        print(\"%d*%d=%2d\" % (i,j,k),end=\" \")\n",
    "        #(i,j,k)\n",
    "    print()#每一行輸出完畢後換行\n"
   ]
  },
  {
   "cell_type": "code",
   "execution_count": 15,
   "metadata": {},
   "outputs": [
    {
     "name": "stdout",
     "output_type": "stream",
     "text": [
      "2*1= 2 2*2= 4 2*3= 6 2*4= 8 2*5=10 2*6=12 2*7=14 2*8=16 2*9=18 \n",
      "3*1= 3 3*2= 6 3*3= 9 3*4=12 3*5=15 3*6=18 3*7=21 3*8=24 3*9=27 \n",
      "4*1= 4 4*2= 8 4*3=12 4*4=16 4*5=20 4*6=24 4*7=28 4*8=32 4*9=36 \n",
      "5*1= 5 5*2=10 5*3=15 5*4=20 5*5=25 5*6=30 5*7=35 5*8=40 5*9=45 \n",
      "6*1= 6 6*2=12 6*3=18 6*4=24 6*5=30 6*6=36 6*7=42 6*8=48 6*9=54 \n",
      "7*1= 7 7*2=14 7*3=21 7*4=28 7*5=35 7*6=42 7*7=49 7*8=56 7*9=63 \n",
      "8*1= 8 8*2=16 8*3=24 8*4=32 8*5=40 8*6=48 8*7=56 8*8=64 8*9=72 \n",
      "9*1= 9 9*2=18 9*3=27 9*4=36 9*5=45 9*6=54 9*7=63 9*8=72 9*9=81 \n"
     ]
    }
   ],
   "source": [
    "#方法2\n",
    "for j in range(2,10):#外層控制被乘數\n",
    "    for i in range(1,10):#內層控制被乘數\n",
    "        k=i*j\n",
    "        print(\"%d*%d=%2d\" % (j,i,j*i),end=\" \")\n",
    "        #%d\t十進制整數 #(j,i,j*i)\n",
    "    print()#每一行輸出完畢後換行"
   ]
  },
  {
   "cell_type": "code",
   "execution_count": 8,
   "metadata": {},
   "outputs": [
    {
     "name": "stdout",
     "output_type": "stream",
     "text": [
      "1 2 3 "
     ]
    }
   ],
   "source": [
    "for i in range(1,5):\n",
    "    if(i==4):\n",
    "        break\n",
    "    print(i,end=\" \")\n",
    "#break=找到第一個後中斷"
   ]
  },
  {
   "cell_type": "code",
   "execution_count": 16,
   "metadata": {},
   "outputs": [
    {
     "name": "stdout",
     "output_type": "stream",
     "text": [
      "1 2 3 "
     ]
    }
   ],
   "source": [
    "for i in range(1,5):\n",
    "    if(i==4):\n",
    "        continue\n",
    "    print(i,end=\" \")\n",
    "#continue=移除某值"
   ]
  },
  {
   "cell_type": "code",
   "execution_count": 18,
   "metadata": {},
   "outputs": [
    {
     "name": "stdout",
     "output_type": "stream",
     "text": [
      "能被7整除的數字:7\n",
      "能被7整除的數字:14\n"
     ]
    }
   ],
   "source": [
    "for i in range(1,20):\n",
    "    if i%7==0:\n",
    "        print(\"能被7整除的數字:%d\"%i)\n",
    "#整數的佔位符\n",
    "#對於浮點數，%d運算子會自動將它們轉換為十進位制值\n"
   ]
  },
  {
   "cell_type": "code",
   "execution_count": 20,
   "metadata": {},
   "outputs": [
    {
     "name": "stdout",
     "output_type": "stream",
     "text": [
      "奇數:1\n",
      "奇數:3\n",
      "奇數:5\n",
      "奇數:7\n",
      "奇數:9\n",
      "奇數:11\n",
      "奇數:13\n",
      "奇數:15\n",
      "奇數:17\n",
      "奇數:19\n"
     ]
    }
   ],
   "source": [
    "for i in range(1,20):\n",
    "    if i%2==0:\n",
    "        continue\n",
    "    print(\"奇數:%d\"%i)"
   ]
  },
  {
   "cell_type": "code",
   "execution_count": 23,
   "metadata": {},
   "outputs": [
    {
     "name": "stdout",
     "output_type": "stream",
     "text": [
      "找到第一個奇數:1\n"
     ]
    }
   ],
   "source": [
    "for i in range(1,20):\n",
    "    if i%2!=0:\n",
    "        print(\"找到第一個奇數:%d\"%i)\n",
    "    break"
   ]
  },
  {
   "cell_type": "code",
   "execution_count": 37,
   "metadata": {},
   "outputs": [
    {
     "name": "stdout",
     "output_type": "stream",
     "text": [
      "4 和 6 的最小公倍數= 12\n"
     ]
    }
   ],
   "source": [
    "a=int(input(\"請輸入a的值\"))\n",
    "b=int(input(\"請輸入b的值\"))\n",
    "for i in range(1,100):\n",
    "    if i%a==0 and i%b==0:\n",
    "        break\n",
    "print(a,\"和\",b,\"的最小公倍數=\",i) \n",
    "       \n"
   ]
  },
  {
   "cell_type": "code",
   "execution_count": 38,
   "metadata": {},
   "outputs": [
    {
     "name": "stdout",
     "output_type": "stream",
     "text": [
      "9 和 15 的最小公倍數= 45\n"
     ]
    }
   ],
   "source": [
    "a=int(input(\"請輸入a的值\"))\n",
    "b=int(input(\"請輸入b的值\"))\n",
    "for i in range(1,100):\n",
    "    if i%a==0 and i%b==0:\n",
    "        break\n",
    "print(a,\"和\",b,\"的最小公倍數=\",i) \n",
    "     "
   ]
  },
  {
   "cell_type": "code",
   "execution_count": 54,
   "metadata": {},
   "outputs": [
    {
     "name": "stdout",
     "output_type": "stream",
     "text": [
      "1\n",
      "2\n",
      "3\n",
      "4\n",
      "6\n",
      "7\n",
      "8\n",
      "9\n",
      "11\n",
      "12\n"
     ]
    }
   ],
   "source": [
    "num=int(input(\"請輸入正整數\"))\n",
    "for i in range(1,num+1):\n",
    "    if (i%5==0):\n",
    "        continue\n",
    "    print(i)"
   ]
  },
  {
   "cell_type": "code",
   "execution_count": 53,
   "metadata": {},
   "outputs": [
    {
     "name": "stdout",
     "output_type": "stream",
     "text": [
      "1\n",
      "2\n",
      "3\n",
      "4\n",
      "6\n",
      "7\n",
      "8\n",
      "9\n",
      "11\n",
      "12\n",
      "13\n",
      "14\n",
      "16\n",
      "17\n",
      "18\n",
      "19\n",
      "21\n"
     ]
    }
   ],
   "source": [
    "num=int(input(\"請輸入正整數\"))\n",
    "for i in range(1,num+1):\n",
    "    if (i%5==0):\n",
    "        continue\n",
    "    print(i)"
   ]
  },
  {
   "cell_type": "code",
   "execution_count": 42,
   "metadata": {},
   "outputs": [
    {
     "name": "stdout",
     "output_type": "stream",
     "text": [
      "55\n"
     ]
    }
   ],
   "source": [
    "total=n=0\n",
    "while(n<10):\n",
    "#while需設中止條件，否則持續執行\n",
    "#通常用於沒有固定次數的情況\n",
    "    n+=1#n=n+1\n",
    "    total+=n#total=total+n\n",
    "print(total)#1+2+...+10=55"
   ]
  },
  {
   "cell_type": "code",
   "execution_count": 84,
   "metadata": {},
   "outputs": [
    {
     "name": "stdout",
     "output_type": "stream",
     "text": [
      "5!=120\n"
     ]
    }
   ],
   "source": [
    "#方法1\n",
    "n=int(input(\"請輸入正整數n的值:\"))\n",
    "\n",
    "if n>0:\n",
    "    result=1\n",
    "    i=1\n",
    "\n",
    "    while i <=n:\n",
    "        result*=i\n",
    "        i+=1\n",
    "\n",
    "    print(str(n)+\"!=\"+str(result))\n",
    "    #result用来返回函數執行结果"
   ]
  },
  {
   "cell_type": "code",
   "execution_count": null,
   "metadata": {},
   "outputs": [],
   "source": [
    "#方法1\n",
    "n=int(input(\"請輸入正整數n的值:\"))\n",
    "\n",
    "if n>0:\n",
    "    result=1\n",
    "    i=1\n",
    "\n",
    "    while i <=n:\n",
    "        result*=i\n",
    "        i+=1\n",
    "\n",
    "    print(str(n)+\"!=\"+str(result))\n",
    "    #result用来返回函數執行结果"
   ]
  },
  {
   "cell_type": "code",
   "execution_count": 47,
   "metadata": {},
   "outputs": [
    {
     "name": "stdout",
     "output_type": "stream",
     "text": [
      "請輸入正整數的值: 5\n",
      "5 != 120\n"
     ]
    }
   ],
   "source": [
    "#方法2\n",
    "a=int(input(\"請輸入正整數的值\"))\n",
    "total=1\n",
    "n=0\n",
    "while n<a:\n",
    "    n+=1#n=n+1\n",
    "    total*=n#total=total*n\n",
    "print(\"請輸入正整數的值:\",a,)\n",
    "print(a,\"!=\",total)\n"
   ]
  },
  {
   "cell_type": "code",
   "execution_count": 56,
   "metadata": {},
   "outputs": [
    {
     "name": "stdout",
     "output_type": "stream",
     "text": [
      "請輸入正整數的值: 6\n",
      "6 != 720\n"
     ]
    }
   ],
   "source": [
    "a=int(input(\"請輸入正整數的值\"))\n",
    "total=1\n",
    "n=0\n",
    "while n<a:\n",
    "    n+=1#n=n+1\n",
    "    total*=n#total=total*n\n",
    "print(\"請輸入正整數的值:\",a,)\n",
    "print(a,\"!=\",total)"
   ]
  },
  {
   "cell_type": "code",
   "execution_count": 76,
   "metadata": {},
   "outputs": [
    {
     "name": "stdout",
     "output_type": "stream",
     "text": [
      "0~50的偶數和的結果是650\n",
      "0~50的奇數和的結果是625\n"
     ]
    }
   ],
   "source": [
    "a=0 #用來儲存偶數和\n",
    "b=0 #用來儲存奇數和\n",
    "i=0\n",
    "\n",
    "while i<=50:\n",
    "    if i%2==0:\n",
    "        a+=i\n",
    "    else:\n",
    "        b+=i\n",
    "    i+=1\n",
    "\n",
    "print(\"0~50的偶數和的結果是\"+str(a))\n",
    "print(\"0~50的奇數和的結果是\"+str(b))"
   ]
  },
  {
   "cell_type": "code",
   "execution_count": 92,
   "metadata": {},
   "outputs": [
    {
     "name": "stdout",
     "output_type": "stream",
     "text": [
      "*******\n",
      "******\n",
      "*****\n",
      "****\n",
      "***\n",
      "**\n",
      "*\n"
     ]
    }
   ],
   "source": [
    "#方法1\n",
    "a=int(input(\"請輸入一個正整數\"))\n",
    "\n",
    "i=a\n",
    "while i>0:\n",
    "    print(\"*\"*i)\n",
    "    i-=1\n"
   ]
  },
  {
   "cell_type": "code",
   "execution_count": 93,
   "metadata": {},
   "outputs": [
    {
     "name": "stdout",
     "output_type": "stream",
     "text": [
      "*****\n",
      "****\n",
      "***\n",
      "**\n",
      "*\n"
     ]
    }
   ],
   "source": [
    "#方法1\n",
    "a=int(input(\"請輸入一個正整數\"))\n",
    "\n",
    "i=a\n",
    "while i>0:\n",
    "    print(\"*\"*i)\n",
    "    i-=1\n"
   ]
  },
  {
   "cell_type": "code",
   "execution_count": 59,
   "metadata": {},
   "outputs": [
    {
     "name": "stdout",
     "output_type": "stream",
     "text": [
      "*******\n",
      "******\n",
      "*****\n",
      "****\n",
      "***\n",
      "**\n",
      "*\n"
     ]
    }
   ],
   "source": [
    "#方法2\n",
    "a=int(input(\"請輸入一個正整數\"))\n",
    "for i in range(a,0,-1):\n",
    "    print(\"*\"*i)\n"
   ]
  },
  {
   "cell_type": "code",
   "execution_count": 60,
   "metadata": {},
   "outputs": [
    {
     "name": "stdout",
     "output_type": "stream",
     "text": [
      "*****\n",
      "****\n",
      "***\n",
      "**\n",
      "*\n"
     ]
    }
   ],
   "source": [
    "#方法2\n",
    "a=int(input(\"請輸入一個正整數\"))\n",
    "for i in range(a,0,-1):\n",
    "    print(\"*\"*i)"
   ]
  },
  {
   "cell_type": "code",
   "execution_count": 75,
   "metadata": {},
   "outputs": [
    {
     "name": "stdout",
     "output_type": "stream",
     "text": [
      "數值1~100中,所有是3或7倍數的數之總和=3\n",
      "數值1~100中,所有是3或7倍數的數之總和=9\n",
      "數值1~100中,所有是3或7倍數的數之總和=16\n",
      "數值1~100中,所有是3或7倍數的數之總和=25\n",
      "數值1~100中,所有是3或7倍數的數之總和=37\n",
      "數值1~100中,所有是3或7倍數的數之總和=51\n",
      "數值1~100中,所有是3或7倍數的數之總和=66\n",
      "數值1~100中,所有是3或7倍數的數之總和=84\n",
      "數值1~100中,所有是3或7倍數的數之總和=105\n",
      "數值1~100中,所有是3或7倍數的數之總和=129\n",
      "數值1~100中,所有是3或7倍數的數之總和=156\n",
      "數值1~100中,所有是3或7倍數的數之總和=184\n",
      "數值1~100中,所有是3或7倍數的數之總和=214\n",
      "數值1~100中,所有是3或7倍數的數之總和=247\n",
      "數值1~100中,所有是3或7倍數的數之總和=282\n",
      "數值1~100中,所有是3或7倍數的數之總和=318\n",
      "數值1~100中,所有是3或7倍數的數之總和=357\n",
      "數值1~100中,所有是3或7倍數的數之總和=399\n",
      "數值1~100中,所有是3或7倍數的數之總和=444\n",
      "數值1~100中,所有是3或7倍數的數之總和=492\n",
      "數值1~100中,所有是3或7倍數的數之總和=541\n",
      "數值1~100中,所有是3或7倍數的數之總和=592\n",
      "數值1~100中,所有是3或7倍數的數之總和=646\n",
      "數值1~100中,所有是3或7倍數的數之總和=702\n",
      "數值1~100中,所有是3或7倍數的數之總和=759\n",
      "數值1~100中,所有是3或7倍數的數之總和=819\n",
      "數值1~100中,所有是3或7倍數的數之總和=882\n",
      "數值1~100中,所有是3或7倍數的數之總和=948\n",
      "數值1~100中,所有是3或7倍數的數之總和=1017\n",
      "數值1~100中,所有是3或7倍數的數之總和=1087\n",
      "數值1~100中,所有是3或7倍數的數之總和=1159\n",
      "數值1~100中,所有是3或7倍數的數之總和=1234\n",
      "數值1~100中,所有是3或7倍數的數之總和=1311\n",
      "數值1~100中,所有是3或7倍數的數之總和=1389\n",
      "數值1~100中,所有是3或7倍數的數之總和=1470\n",
      "數值1~100中,所有是3或7倍數的數之總和=1554\n",
      "數值1~100中,所有是3或7倍數的數之總和=1641\n",
      "數值1~100中,所有是3或7倍數的數之總和=1731\n",
      "數值1~100中,所有是3或7倍數的數之總和=1822\n",
      "數值1~100中,所有是3或7倍數的數之總和=1915\n",
      "數值1~100中,所有是3或7倍數的數之總和=2011\n",
      "數值1~100中,所有是3或7倍數的數之總和=2109\n",
      "數值1~100中,所有是3或7倍數的數之總和=2208\n"
     ]
    }
   ],
   "source": [
    "total_sum=0\n",
    "\n",
    "for i in range(1,101):\n",
    "    if i%3==0 or i%7==0:\n",
    "        total_sum+=i\n",
    "        print(\"數值1~100中,所有是3或7倍數的數之總和=\"+str(total_sum))"
   ]
  },
  {
   "cell_type": "code",
   "execution_count": null,
   "metadata": {},
   "outputs": [],
   "source": [
    "n=int(input(\"請輸入正整數\"))\n",
    "\n",
    "factors=[] #初始化一個空列表來儲存因數\n",
    "\n",
    "for i in range(1,n+1):\n",
    "    if n %i==0:\n",
    "        factors.append(i)\n",
    "\n",
    "print(str(n)+\"的因數有\"+''.join(map(str,factors))) #列出所有因數\n",
    "\n"
   ]
  },
  {
   "cell_type": "code",
   "execution_count": 94,
   "metadata": {},
   "outputs": [
    {
     "name": "stdout",
     "output_type": "stream",
     "text": [
      "m 0\tm 1\tm 2\ta 0\ta 1\ta 2\ti 0\ti 1\ti 2\tl 0\tl 1\tl 2\t"
     ]
    }
   ],
   "source": [
    "for letter in \"mail\":\n",
    "    for i in range(3):\n",
    "        print(letter,i,end=\"\\t\")"
   ]
  },
  {
   "cell_type": "code",
   "execution_count": 86,
   "metadata": {},
   "outputs": [
    {
     "name": "stdout",
     "output_type": "stream",
     "text": [
      "25\n"
     ]
    }
   ],
   "source": [
    "#假設變數a與b範圍為1~999之整數，求a*b+1整除a平方+b平方的個數\n",
    "asum=0 #確保變數乾淨\n",
    "for a in range(1,1000):\n",
    "    for b in range(1,1000):\n",
    "        if (a**2+b**2)%(a*b+1)==0:\n",
    "            asum+=1\n",
    "print(asum)\n"
   ]
  },
  {
   "cell_type": "code",
   "execution_count": 87,
   "metadata": {},
   "outputs": [
    {
     "name": "stdout",
     "output_type": "stream",
     "text": [
      "165\n"
     ]
    }
   ],
   "source": [
    "#求(1+2+3...+9)+(1+2+3+...+8)+(1+2+3+...+7)+(1+2)+(1)之和\n",
    "sum=0\n",
    "for i in range(1,10):\n",
    "    for j in range(1,i+1):\n",
    "        sum+=j\n",
    "print(sum)"
   ]
  },
  {
   "cell_type": "code",
   "execution_count": 95,
   "metadata": {},
   "outputs": [
    {
     "name": "stdout",
     "output_type": "stream",
     "text": [
      "1+2+...+99= 4950\n"
     ]
    }
   ],
   "source": [
    "#使用while...迴圈:輸出1+2+...+99之和:\n",
    "sum=0\n",
    "num=1\n",
    "while (num<=99):\n",
    "    sum+=num\n",
    "    num+=1\n",
    "print(\"1+2+...+99=\",sum)"
   ]
  },
  {
   "cell_type": "code",
   "execution_count": 96,
   "metadata": {},
   "outputs": [
    {
     "name": "stdout",
     "output_type": "stream",
     "text": [
      "Happy Sunday\n",
      "Happy Sunday\n",
      "Happy Sunday\n",
      "Happy Sunday\n",
      "Happy Sunday\n",
      "Happy Sunday\n",
      "Happy Sunday\n"
     ]
    }
   ],
   "source": [
    "while True:\n",
    "    user_input=input(\"輸入任意鍵顯示Happy Sunday,輸入n退出:\")\n",
    "    if user_input=='n':\n",
    "        break\n",
    "        #輸入n即停止\n",
    "\n",
    "    print(\"Happy Sunday\")"
   ]
  },
  {
   "cell_type": "code",
   "execution_count": 98,
   "metadata": {},
   "outputs": [
    {
     "name": "stdout",
     "output_type": "stream",
     "text": [
      "0\n",
      "1\n",
      "2\n",
      "Bye!!\n"
     ]
    }
   ],
   "source": [
    "#單一迴圈之break指令例子\n",
    "for j in range(5):\n",
    "    if j==3:\n",
    "        break\n",
    "    print(j)\n",
    "print(\"Bye!!\")\n"
   ]
  },
  {
   "cell_type": "code",
   "execution_count": 100,
   "metadata": {},
   "outputs": [
    {
     "name": "stdout",
     "output_type": "stream",
     "text": [
      "k=0\n",
      "j=0\n",
      "k=0\n",
      "j=1\n",
      "Bye!!\n"
     ]
    }
   ],
   "source": [
    "#雙迴圈之break指令例子\n",
    "for j in range(2):\n",
    "    for k in range(3):\n",
    "        if k==1:\n",
    "            break\n",
    "        print(f'k={k}')\n",
    "    print(f'j={j}')\n",
    "print(\"Bye!!\")"
   ]
  },
  {
   "cell_type": "code",
   "execution_count": 118,
   "metadata": {},
   "outputs": [
    {
     "name": "stdout",
     "output_type": "stream",
     "text": [
      "1 2 3 5 6 10 15 30 "
     ]
    }
   ],
   "source": [
    "#oj7\n",
    "n=int(input())\n",
    "for i in range(1,n+1):\n",
    "    if n%i==0:\n",
    "        print(i,end=\" \")    \n"
   ]
  },
  {
   "cell_type": "code",
   "execution_count": 141,
   "metadata": {},
   "outputs": [
    {
     "name": "stdout",
     "output_type": "stream",
     "text": [
      "129\n"
     ]
    }
   ],
   "source": [
    "#oj8\n",
    "n=int(input())\n",
    "total_sum=0\n",
    "\n",
    "for i in range(1,n+1):\n",
    "    if (i%3==0) or (i%7==0):\n",
    "        total_sum+=i\n",
    "print(total_sum)"
   ]
  },
  {
   "cell_type": "code",
   "execution_count": 147,
   "metadata": {},
   "outputs": [
    {
     "name": "stdout",
     "output_type": "stream",
     "text": [
      "*\n",
      "**\n",
      "***\n"
     ]
    }
   ],
   "source": [
    "#oj9\n",
    "a=int(input(\"\"))\n",
    "for i in range(1,a+1,1):\n",
    "    print(\"*\"*i)"
   ]
  },
  {
   "cell_type": "code",
   "execution_count": 159,
   "metadata": {},
   "outputs": [
    {
     "name": "stdout",
     "output_type": "stream",
     "text": [
      "1\n",
      "2\n",
      "3\n",
      "4\n"
     ]
    }
   ],
   "source": [
    "#oj10\n",
    "a=int(input())\n",
    "for i in range(1,a+1,1):\n",
    "    if (i==a):\n",
    "        continue\n",
    "    print(i)"
   ]
  },
  {
   "cell_type": "code",
   "execution_count": null,
   "metadata": {},
   "outputs": [],
   "source": []
  },
  {
   "cell_type": "code",
   "execution_count": null,
   "metadata": {},
   "outputs": [],
   "source": []
  },
  {
   "cell_type": "code",
   "execution_count": null,
   "metadata": {},
   "outputs": [],
   "source": []
  },
  {
   "cell_type": "code",
   "execution_count": null,
   "metadata": {},
   "outputs": [],
   "source": []
  },
  {
   "cell_type": "code",
   "execution_count": null,
   "metadata": {},
   "outputs": [],
   "source": []
  },
  {
   "cell_type": "code",
   "execution_count": null,
   "metadata": {},
   "outputs": [],
   "source": []
  }
 ],
 "metadata": {
  "kernelspec": {
   "display_name": "Python 3",
   "language": "python",
   "name": "python3"
  },
  "language_info": {
   "codemirror_mode": {
    "name": "ipython",
    "version": 3
   },
   "file_extension": ".py",
   "mimetype": "text/x-python",
   "name": "python",
   "nbconvert_exporter": "python",
   "pygments_lexer": "ipython3",
   "version": "3.12.4"
  }
 },
 "nbformat": 4,
 "nbformat_minor": 2
}
