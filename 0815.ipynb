{
 "cells": [
  {
   "cell_type": "code",
   "execution_count": 42,
   "metadata": {},
   "outputs": [],
   "source": [
    "#\"\\n\"換行\n",
    "#sep=\" \"分隔字元\n",
    "\n",
    "#%s\t字串\n",
    "#%d\t十進制整數"
   ]
  },
  {
   "cell_type": "code",
   "execution_count": 45,
   "metadata": {},
   "outputs": [
    {
     "name": "stdout",
     "output_type": "stream",
     "text": [
      "Hello world, I am oxxo!!\n",
      "Hello world, I am xoox!!\n",
      "there are 2 dollars\n",
      "there are 2.000000 dollars\n"
     ]
    }
   ],
   "source": [
    "a = 'Hello world, I am %s!!' #%s 字串\n",
    "b = 'there are %d dollars' #%d\t十進制整數\n",
    "c = 'there are %f dollars' #%f 十進制浮點數\n",
    "print(a % 'oxxo')  # Hello world, I am oxxo!!\n",
    "print(a % 'xoox')  # Hello world, I am xoox!!\n",
    "print(b % 2.5)     # there are 2 dollars (小數點被無條件捨去)\n",
    "print(c % 2)       # there are 2.000000 dollars (整數轉換成浮點數)"
   ]
  },
  {
   "cell_type": "code",
   "execution_count": null,
   "metadata": {},
   "outputs": [],
   "source": [
    "print('%s world' % 'hello')      # hello world  #%s字串\n",
    "print('%12s world' % 'hello')    #        hello world #空12格\n",
    "print('%+12s world' % 'hello')   #        hello world #+為靠右對齊,空12格\n",
    "print('%-12s world' % 'hello')   # hello        world #-為靠左對齊,空12格\n",
    "print('%.3s world' % 'hello')    # hel world #數字最小寬度 (如果字串超過最小寬度，以字串的寬度為主)\n",
    "print('%12.3s world' % 'hello')  #          hel world\n",
    "\n",
    "print('%.3f world' % 123.456789) # 123.457 world #%f十進制浮點數"
   ]
  },
  {
   "cell_type": "code",
   "execution_count": null,
   "metadata": {},
   "outputs": [],
   "source": [
    "a = '%s world, ther are %f dollars!' #%f十進制浮點數\n",
    "b = a % ('hello', 2.5)\n",
    "print(b)   # hello world, ther are 2.500000 dollars!"
   ]
  },
  {
   "cell_type": "code",
   "execution_count": null,
   "metadata": {},
   "outputs": [],
   "source": [
    "a = 'hello {}, I am {}' #第一{}存入format中的world,第二{}存入format中的oxxo,{}是用來存入值\n",
    "b = a.format('world', 'oxxo')\n",
    "print(b)   # hello world, I am oxxo"
   ]
  },
  {
   "cell_type": "code",
   "execution_count": null,
   "metadata": {},
   "outputs": [
    {
     "name": "stdout",
     "output_type": "stream",
     "text": [
      "你好 Max,我是 Jack\n"
     ]
    }
   ],
   "source": [
    "c=\"你好 {},我是 {}\"\n",
    "d=c.format(\"Max\",\"Jack\")\n",
    "print(d)"
   ]
  },
  {
   "cell_type": "code",
   "execution_count": null,
   "metadata": {},
   "outputs": [
    {
     "name": "stdout",
     "output_type": "stream",
     "text": [
      "你好 Jack,我是 Max\n"
     ]
    }
   ],
   "source": [
    "e=\"你好 {1},我是 {0}\"\n",
    "f=e.format(\"Max\",\"Jack\") #Max=0,Jack=1\n",
    "print(f) #因e式,故輸出結果為 你好 Jack,我是 Max"
   ]
  },
  {
   "cell_type": "code",
   "execution_count": null,
   "metadata": {},
   "outputs": [
    {
     "name": "stdout",
     "output_type": "stream",
     "text": [
      "你好 Jack,我是 Max,12345\n"
     ]
    }
   ],
   "source": [
    "e=\"你好 {1},我是 {0},{2}\"\n",
    "f=e.format(\"Max\",\"Jack\",\"12345\") #Max=0,Jack=1,12345=2\n",
    "print(f) #因e式,故輸出結果為 你好 Jack,我是 Max,12345"
   ]
  },
  {
   "cell_type": "code",
   "execution_count": null,
   "metadata": {},
   "outputs": [
    {
     "name": "stdout",
     "output_type": "stream",
     "text": [
      "hello world, I am QQ\n"
     ]
    }
   ],
   "source": [
    "a = 'hello {0[x][m]}, I am {0[y][m]}'\n",
    "b = {'x': {'m':'world', 'n':'oxxo'}, 'y':{'m':'QQ', 'n':'YY'}}\n",
    "c = a.format(b)\n",
    "print(c)    # hello world, I am QQ"
   ]
  },
  {
   "cell_type": "code",
   "execution_count": null,
   "metadata": {},
   "outputs": [],
   "source": [
    "#:開始需要加上冒號\n",
    "#>靠右對齊、不加東西\n",
    "#<靠左對齊\n",
    "#^置中對齊\n",
    "#填補字元,將不足最小寬度的空白，填滿指定字元\n",
    "#數字.數字,最小寬度.最大字元數，如果後方是 f (%f)，第二個數字表示小數點位數"
   ]
  },
  {
   "cell_type": "code",
   "execution_count": null,
   "metadata": {},
   "outputs": [
    {
     "name": "stdout",
     "output_type": "stream",
     "text": [
      "hello world, I am oxxo\n",
      "hello world     , I am oxxo      \n",
      "hello      world, I am       oxxo\n",
      "hello --world---, I am +++oxxo+++\n",
      "hello ---wor----, I am ---oxxo---\n",
      "hello ---wor----, I am  123.457  \n"
     ]
    }
   ],
   "source": [
    "a = 'hello {}, I am {}'.format('world','oxxo')\n",
    "b = 'hello {:10s}, I am {:10s}'.format('world','oxxo')\n",
    "c = 'hello {:>10s}, I am {:>10s}'.format('world','oxxo')\n",
    "d = 'hello {:-^10s}, I am {:+^10s}'.format('world','oxxo')\n",
    "e = 'hello {:-^10.3s}, I am {:-^10s}'.format('world','oxxo')\n",
    "f = 'hello {:-^10.3s}, I am {:^10.3f}'.format('world',123.456789)\n",
    "#{:-^10s} 會將 world 置中對齊，並將不足最小寬度的部分補上 - 的符號\n",
    "#{:-^10.3s}10.3中的.3 會取 world 前三個字\n",
    "#{:^10.3f} 會讓 123.456789 只留下小數點三位\n",
    "print(a)  # hello world, I am oxxo\n",
    "print(b)  # hello world     , I am oxxo\n",
    "print(c)  # hello      world, I am       oxxo\n",
    "print(d)  # hello --world---, I am +++oxxo+++\n",
    "print(e)  # hello ---wor----, I am ---oxxo---\n",
    "print(f)  # hello ---wor----, I am  123.457"
   ]
  },
  {
   "cell_type": "code",
   "execution_count": null,
   "metadata": {},
   "outputs": [
    {
     "name": "stdout",
     "output_type": "stream",
     "text": [
      "hello +++world---, I am +++oxxo---\n"
     ]
    }
   ],
   "source": [
    "#方法1\n",
    "g =\"{} +++world---, I am +++{}---\".format('hello','oxxo')\n",
    "print(g)"
   ]
  },
  {
   "cell_type": "code",
   "execution_count": null,
   "metadata": {},
   "outputs": [
    {
     "name": "stdout",
     "output_type": "stream",
     "text": [
      "hello +++world---, I am +++oxxo---\n"
     ]
    }
   ],
   "source": [
    "#方法2\n",
    "h=\"oxxo\"\n",
    "i=f\"hello +++world---, I am +++{h}---\"\n",
    "print(i)\n",
    "#f-string格式化  f{變數名稱或運算式}」(開頭可以使用f或F)\n",
    "#輸出結果會將變數或運算式的內容，放入指定的位置，下方的程式執行後，會將變數h的內容，放入i的字串裡"
   ]
  },
  {
   "cell_type": "code",
   "execution_count": 46,
   "metadata": {},
   "outputs": [
    {
     "name": "stdout",
     "output_type": "stream",
     "text": [
      "hello world, I am oxxo\n"
     ]
    }
   ],
   "source": [
    "a = 'world'\n",
    "b = 'oxxo'\n",
    "c = f'hello {a}, I am {b}'\n",
    "print(c)   # hello world, I am oxxo\n",
    "#f-string格式化  f{變數名稱或運算式}」(開頭可以使用f或F)\n",
    "#輸出結果會將變數或運算式的內容，放入指定的位置，下方的程式執行後，會將變數a和b的內容，放入c的字串裡"
   ]
  },
  {
   "cell_type": "code",
   "execution_count": 51,
   "metadata": {},
   "outputs": [
    {
     "name": "stdout",
     "output_type": "stream",
     "text": [
      "hello world     , I am       oxxo\n",
      "hello world-----, I am +++oxxo+++\n",
      "hello wor-------, I am ++++ox++++\n",
      "hello WORLD, I am Oxxo\n"
     ]
    }
   ],
   "source": [
    "a = 'world'\n",
    "b = 'oxxo'\n",
    "c = f'hello {a:<10s}, I am {b:>10s}'\n",
    "d = f'hello {a:-<10s}, I am {b:+^10s}'\n",
    "e = f'hello {a:-<10.3s}, I am {b:+^10.2s}'\n",
    "f = f'hello {a.upper()}, I am {b.title()}'\n",
    "print(c)   # hello world     , I am       oxxo\n",
    "print(d)   # hello world-----, I am +++oxxo+++\n",
    "print(e)   # hello wor-------, I am ++++ox++++\n",
    "print(f)   # hello WORLD, I am Oxxo"
   ]
  },
  {
   "cell_type": "code",
   "execution_count": 49,
   "metadata": {},
   "outputs": [
    {
     "name": "stdout",
     "output_type": "stream",
     "text": [
      "001 , 002 , 003 , 004 , 005 , 006 , 007 , 008 , 009 , 010 , \n",
      "011 , 012 , 013 , 014 , 015 , 016 , 017 , 018 , 019 , 020 , \n",
      "021 , 022 , 023 , 024 , 025 , 026 , 027 , 028 , 029 , 030 , \n",
      "031 , 032 , 033 , 034 , 035 , 036 , 037 , 038 , 039 , 040 , \n",
      "041 , 042 , 043 , 044 , 045 , 046 , 047 , 048 , 049 , 050 , \n",
      "051 , 052 , 053 , 054 , 055 , 056 , 057 , 058 , 059 , 060 , \n",
      "061 , 062 , 063 , 064 , 065 , 066 , 067 , 068 , 069 , 070 , \n",
      "071 , 072 , 073 , 074 , 075 , 076 , 077 , 078 , 079 , 080 , \n",
      "081 , 082 , 083 , 084 , 085 , 086 , 087 , 088 , 089 , 090 , \n",
      "091 , 092 , 093 , 094 , 095 , 096 , 097 , 098 , 099 , 100 , \n"
     ]
    }
   ],
   "source": [
    "count=0\n",
    "for i in range(1,101):\n",
    "  print(f'{i:03d}',end=' , ')\n",
    "  count+=1\n",
    "  if count%10==0:\n",
    "    print()"
   ]
  },
  {
   "cell_type": "code",
   "execution_count": 58,
   "metadata": {},
   "outputs": [
    {
     "name": "stdout",
     "output_type": "stream",
     "text": [
      "123.46\n"
     ]
    }
   ],
   "source": [
    "a=float(input(\"\"))\n",
    "print(f'{a:.2f}')"
   ]
  },
  {
   "cell_type": "code",
   "execution_count": 64,
   "metadata": {},
   "outputs": [
    {
     "name": "stdout",
     "output_type": "stream",
     "text": [
      "Hello World\n"
     ]
    }
   ],
   "source": [
    "a =str(input(\"\"))\n",
    "b =str(input(\"\"))\n",
    "c = f'{a} {b}'\n",
    "print(c)"
   ]
  },
  {
   "cell_type": "code",
   "execution_count": 73,
   "metadata": {},
   "outputs": [
    {
     "name": "stdout",
     "output_type": "stream",
     "text": [
      "You are 34 years old.\n"
     ]
    }
   ],
   "source": [
    "year=int(input(\"請輸入出生年份\"))\n",
    "age=2024-year\n",
    "print('You are 'f'{age}'' years old.')"
   ]
  },
  {
   "cell_type": "code",
   "execution_count": 81,
   "metadata": {},
   "outputs": [
    {
     "name": "stdout",
     "output_type": "stream",
     "text": [
      "2024-08-15-report.pdf\n"
     ]
    }
   ],
   "source": [
    "import datetime\n",
    "a=str(input(\"\"))\n",
    "b=totay=datetime.date.today()\n",
    "c=f'{b}-{a}'\n",
    "print(c)"
   ]
  },
  {
   "cell_type": "code",
   "execution_count": 75,
   "metadata": {},
   "outputs": [
    {
     "name": "stdout",
     "output_type": "stream",
     "text": [
      "6*7=42\n"
     ]
    }
   ],
   "source": [
    "a =int(input(\"\"))\n",
    "b =int(input(\"\"))\n",
    "c = f'{a}*{b}={a*b}'\n",
    "print(c)"
   ]
  },
  {
   "cell_type": "code",
   "execution_count": 84,
   "metadata": {},
   "outputs": [
    {
     "name": "stdout",
     "output_type": "stream",
     "text": [
      "ABC\n",
      "3 letters\n"
     ]
    }
   ],
   "source": [
    "a=str(input(\"\"))\n",
    "print(a)\n",
    "print(len(a),\"letters\")"
   ]
  },
  {
   "cell_type": "code",
   "execution_count": 102,
   "metadata": {},
   "outputs": [
    {
     "ename": "ValueError",
     "evalue": "not enough values to unpack (expected 2, got 1)",
     "output_type": "error",
     "traceback": [
      "\u001b[1;31m---------------------------------------------------------------------------\u001b[0m",
      "\u001b[1;31mValueError\u001b[0m                                Traceback (most recent call last)",
      "Cell \u001b[1;32mIn[102], line 1\u001b[0m\n\u001b[1;32m----> 1\u001b[0m a,b\u001b[38;5;241m=\u001b[39m\u001b[38;5;28minput\u001b[39m()\u001b[38;5;241m.\u001b[39msplit()\n\u001b[0;32m      2\u001b[0m c\u001b[38;5;241m=\u001b[39m\u001b[38;5;28mfloat\u001b[39m(a)\n\u001b[0;32m      3\u001b[0m d\u001b[38;5;241m=\u001b[39m\u001b[38;5;28mfloat\u001b[39m(b)\n",
      "\u001b[1;31mValueError\u001b[0m: not enough values to unpack (expected 2, got 1)"
     ]
    }
   ],
   "source": [
    "a,b=input().split()\n",
    "c=float(a)\n",
    "d=float(b)\n",
    "e=c**0.5\n",
    "f=d**0.5\n",
    "g=e+f\n",
    "print('a=%s b=%s'%(e,f))\n",
    "print('ans=%s'%g)"
   ]
  },
  {
   "cell_type": "code",
   "execution_count": null,
   "metadata": {},
   "outputs": [],
   "source": [
    "a=float(input(\"\"))\n",
    "b=float(input(\"\"))\n",
    "c=a**0.5\n",
    "d=b**0.5\n",
    "e=f'{c+d}'\n",
    "print(\"a=\",c,\"b=\",d)\n",
    "print(\"ans=\",e)"
   ]
  },
  {
   "cell_type": "code",
   "execution_count": null,
   "metadata": {},
   "outputs": [],
   "source": []
  },
  {
   "cell_type": "code",
   "execution_count": null,
   "metadata": {},
   "outputs": [],
   "source": []
  },
  {
   "cell_type": "code",
   "execution_count": null,
   "metadata": {},
   "outputs": [],
   "source": []
  },
  {
   "cell_type": "code",
   "execution_count": null,
   "metadata": {},
   "outputs": [],
   "source": []
  },
  {
   "cell_type": "code",
   "execution_count": null,
   "metadata": {},
   "outputs": [],
   "source": []
  },
  {
   "cell_type": "code",
   "execution_count": null,
   "metadata": {},
   "outputs": [],
   "source": []
  }
 ],
 "metadata": {
  "kernelspec": {
   "display_name": "Python 3",
   "language": "python",
   "name": "python3"
  },
  "language_info": {
   "codemirror_mode": {
    "name": "ipython",
    "version": 3
   },
   "file_extension": ".py",
   "mimetype": "text/x-python",
   "name": "python",
   "nbconvert_exporter": "python",
   "pygments_lexer": "ipython3",
   "version": "3.12.4"
  }
 },
 "nbformat": 4,
 "nbformat_minor": 2
}
