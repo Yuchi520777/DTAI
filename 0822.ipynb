{
 "cells": [
  {
   "cell_type": "code",
   "execution_count": null,
   "metadata": {},
   "outputs": [],
   "source": [
    "#OJ1\n",
    "a=float(input())\n",
    "b=float(input())\n",
    "print(a%b)"
   ]
  },
  {
   "cell_type": "code",
   "execution_count": 7,
   "metadata": {},
   "outputs": [
    {
     "name": "stdout",
     "output_type": "stream",
     "text": [
      "153,370,371,407,"
     ]
    }
   ],
   "source": [
    "#OJ2\n",
    "a1,b1=input().split()\n",
    "a=int(a1)\n",
    "b=int(b1)\n",
    "for i in range(a,b+1):\n",
    "    if i>100:\n",
    "        d=[int(t) for t in str(i)]\n",
    "        if d[2]**3+d[1]**3+d[0]**3==i:\n",
    "            print(i,end=\",\")\n",
    "        else:\n",
    "            continue"
   ]
  },
  {
   "cell_type": "code",
   "execution_count": 11,
   "metadata": {},
   "outputs": [
    {
     "name": "stdout",
     "output_type": "stream",
     "text": [
      "t=9.0 b=14.0 h=8.2 area=94.3\n"
     ]
    }
   ],
   "source": [
    "#OJ3\n",
    "t=float(input())\n",
    "b=float(input())\n",
    "h=float(input())\n",
    "area=(t+b)*h/2\n",
    "print(\"t=%s b=%s h=%s area=%s\" % (t,b,h,area))"
   ]
  },
  {
   "cell_type": "code",
   "execution_count": 14,
   "metadata": {},
   "outputs": [
    {
     "name": "stdout",
     "output_type": "stream",
     "text": [
      "park time:7h:49m\n",
      "pay:300 money\n"
     ]
    }
   ],
   "source": [
    "#OJ4\n",
    "a=int(input())\n",
    "b=a//60 #//取得商數\n",
    "c=a%60 #取得餘數\n",
    "\n",
    "if a<=60: #停車未滿1小時,收費20$\n",
    "    fee=20\n",
    "elif 60<a<=420: #停車超過7小時,收費20+hr*40$\n",
    "    fee=20+b*40\n",
    "else:\n",
    "    fee=300 #當日最高收費300$\n",
    "\n",
    "print(f\"park time:{b}h:{c}m\")\n",
    "print(f\"pay:{fee} money\")\n"
   ]
  },
  {
   "cell_type": "code",
   "execution_count": 19,
   "metadata": {},
   "outputs": [
    {
     "name": "stdout",
     "output_type": "stream",
     "text": [
      "[11, 18, 25, 32, 39, 46, 53, 60, 67, 74, 81, 88, 95]\n"
     ]
    }
   ],
   "source": [
    "#OJ5\n",
    "a1,b1,c1=input().split()\n",
    "a=int(a1)\n",
    "b=int(b1)\n",
    "c=int(c1)\n",
    "d=range(a,b,c)\n",
    "print(list(d))"
   ]
  },
  {
   "cell_type": "code",
   "execution_count": 21,
   "metadata": {},
   "outputs": [
    {
     "name": "stdout",
     "output_type": "stream",
     "text": [
      "2020 is leap year\n"
     ]
    }
   ],
   "source": [
    "#OJ6\n",
    "year=int(input(\"\"))\n",
    "if (year % 4==0 and year%100!=0) or year%400==0:\n",
    "    print(year,\"is leap year\")\n",
    "else:\n",
    "    print(year,\"is common year\")"
   ]
  },
  {
   "cell_type": "code",
   "execution_count": 24,
   "metadata": {},
   "outputs": [
    {
     "name": "stdout",
     "output_type": "stream",
     "text": [
      "90 is A\n"
     ]
    }
   ],
   "source": [
    "#OJ7\n",
    "grade=int(input(\"\"))\n",
    "if grade<0:\n",
    "    print(grade,\"is error\")\n",
    "elif grade>=90 and grade<100:\n",
    "    print(grade,\"is A\")\n",
    "elif grade>=80 and grade<=89:\n",
    "    print(grade,\"is B\")\n",
    "elif grade>=70 and grade<=79:\n",
    "    print(grade,\"is C\")\n",
    "elif grade>=60 and grade<=69:\n",
    "    print(grade,\"is D\")\n",
    "elif grade>=0 and grade<=59:\n",
    "    print(grade,\"is E\")\n",
    "else:\n",
    "    print(grade,\"is error\")"
   ]
  },
  {
   "cell_type": "code",
   "execution_count": 25,
   "metadata": {},
   "outputs": [
    {
     "name": "stdout",
     "output_type": "stream",
     "text": [
      "0,5,10,15,20,25,30,35,40,45,50,55,60,65,70,75,80,85,90,95,"
     ]
    }
   ],
   "source": [
    "#OJ8\n",
    "a,b,c=input().split()\n",
    "a1=int(a)\n",
    "b1=int(b)\n",
    "c1=int(c)\n",
    "for i in range(a1,b1,c1):\n",
    "    print(i,end=\",\")"
   ]
  },
  {
   "cell_type": "code",
   "execution_count": 26,
   "metadata": {},
   "outputs": [
    {
     "name": "stdout",
     "output_type": "stream",
     "text": [
      "*\n",
      "**\n",
      "***\n",
      "****\n",
      "*****\n",
      "******\n",
      "*******\n",
      "********\n",
      "*********\n"
     ]
    }
   ],
   "source": [
    "#OJ9\n",
    "a=int(input())\n",
    "for i in range(1,a+1):\n",
    "    print(\"*\"*i)"
   ]
  },
  {
   "cell_type": "code",
   "execution_count": 29,
   "metadata": {},
   "outputs": [
    {
     "name": "stdout",
     "output_type": "stream",
     "text": [
      "5*1=5 5*2=10 5*3=15 5*4=20 5*5=25 5*6=30 5*7=35 5*8=40 5*9=45 \n",
      "6*1=6 6*2=12 6*3=18 6*4=24 6*5=30 6*6=36 6*7=42 6*8=48 6*9=54 \n",
      "7*1=7 7*2=14 7*3=21 7*4=28 7*5=35 7*6=42 7*7=49 7*8=56 7*9=63 \n",
      "8*1=8 8*2=16 8*3=24 8*4=32 8*5=40 8*6=48 8*7=56 8*8=64 8*9=72 \n",
      "9*1=9 9*2=18 9*3=27 9*4=36 9*5=45 9*6=54 9*7=63 9*8=72 9*9=81 \n"
     ]
    }
   ],
   "source": [
    "#OJ10\n",
    "a=int(input(\"\"))\n",
    "for j in range(a,10):\n",
    "    for i in range(1,10):\n",
    "        print(\"%d*%d=%d\" % (j,i,i*j),end=\" \")\n",
    "    print()"
   ]
  },
  {
   "cell_type": "code",
   "execution_count": null,
   "metadata": {},
   "outputs": [],
   "source": []
  }
 ],
 "metadata": {
  "kernelspec": {
   "display_name": "Python 3",
   "language": "python",
   "name": "python3"
  },
  "language_info": {
   "codemirror_mode": {
    "name": "ipython",
    "version": 3
   },
   "file_extension": ".py",
   "mimetype": "text/x-python",
   "name": "python",
   "nbconvert_exporter": "python",
   "pygments_lexer": "ipython3",
   "version": "3.12.4"
  }
 },
 "nbformat": 4,
 "nbformat_minor": 2
}
