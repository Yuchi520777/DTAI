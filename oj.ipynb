{
 "cells": [
  {
   "cell_type": "code",
   "execution_count": 6,
   "metadata": {},
   "outputs": [
    {
     "name": "stdout",
     "output_type": "stream",
     "text": [
      "1 2 3 1 2 3 1 2 3\n"
     ]
    }
   ],
   "source": [
    "#OJ1_4\n",
    "print(\"1 2 3 1 2 3 1 2 3\")\n"
   ]
  },
  {
   "cell_type": "code",
   "execution_count": 11,
   "metadata": {},
   "outputs": [
    {
     "name": "stdout",
     "output_type": "stream",
     "text": [
      "banana orange apple\n"
     ]
    }
   ],
   "source": [
    "#OJ1_5\n",
    "list2=[\"apple\",\"orange\",\"banana\"]\n",
    "a=\" \".join(reversed(list2))\n",
    "    #使用字串作為每個元素之間的分隔符號，將可迭代元素串接起來。\n",
    "    #它傳回一個新的字串，其中包含所有可迭代元素，並以指定的字串串接在一起\n",
    "print(a)\n",
    "\n"
   ]
  },
  {
   "cell_type": "code",
   "execution_count": null,
   "metadata": {},
   "outputs": [],
   "source": [
    "#OJ1_6 法1\n",
    "#使用while...迴圈:輸出1+2+...+99之和:\n",
    "sum=0\n",
    "num=1\n",
    "while (num<=100):\n",
    "    sum+=num\n",
    "    num+=1\n",
    "print(sum)\n"
   ]
  },
  {
   "cell_type": "code",
   "execution_count": 14,
   "metadata": {},
   "outputs": [
    {
     "name": "stdout",
     "output_type": "stream",
     "text": [
      "5050\n"
     ]
    }
   ],
   "source": [
    "#OJ1_6 法2\n",
    "n=100\n",
    "total_sum = n * (n + 1) // 2\n",
    "    #1 到 n 的總和： n * (n + 1) // 2\n",
    "\n",
    "print(total_sum)"
   ]
  },
  {
   "cell_type": "code",
   "execution_count": 24,
   "metadata": {},
   "outputs": [
    {
     "name": "stdout",
     "output_type": "stream",
     "text": [
      "-20\n"
     ]
    }
   ],
   "source": [
    "#OJ5\n",
    "a,b,c=input().split()\n",
    "a = int(a)\n",
    "b = int(b)\n",
    "c = int(c)\n",
    "\n",
    "if a<=b and a<=c:\n",
    "    print(a)\n",
    "elif b<=a and b<=c:\n",
    "    print(b)\n",
    "else:\n",
    "    print(c)"
   ]
  },
  {
   "cell_type": "code",
   "execution_count": 29,
   "metadata": {},
   "outputs": [
    {
     "name": "stdout",
     "output_type": "stream",
     "text": [
      "3.999\n"
     ]
    }
   ],
   "source": [
    "#OJ6\n",
    "a,b,c=input().split()\n",
    "a = float(a)\n",
    "b = float(b)\n",
    "c = float(c)\n",
    "\n",
    "if a>=b and a>=c:\n",
    "    print(a)\n",
    "elif b>=a and b>=c:\n",
    "    print(b)\n",
    "else:\n",
    "    print(c)"
   ]
  },
  {
   "cell_type": "code",
   "execution_count": 15,
   "metadata": {},
   "outputs": [
    {
     "name": "stdout",
     "output_type": "stream",
     "text": [
      "1 2 3 5 6 10 15 30 "
     ]
    }
   ],
   "source": [
    "#OJ7\n",
    "n=int(input())\n",
    "for i in range(1,n+1):\n",
    "    if n%i==0:\n",
    "        print(i,end=\" \")    "
   ]
  },
  {
   "cell_type": "code",
   "execution_count": 2,
   "metadata": {},
   "outputs": [
    {
     "name": "stdout",
     "output_type": "stream",
     "text": [
      "129\n"
     ]
    }
   ],
   "source": [
    "#OJ8\n",
    "n=int(input())\n",
    "total_sum=0\n",
    "\n",
    "for i in range(1,n+1):\n",
    "    if (i%3==0) or (i%7==0):\n",
    "        total_sum+=i\n",
    "print(total_sum)"
   ]
  },
  {
   "cell_type": "code",
   "execution_count": 3,
   "metadata": {},
   "outputs": [
    {
     "name": "stdout",
     "output_type": "stream",
     "text": [
      "*\n",
      "**\n",
      "***\n",
      "****\n",
      "*****\n",
      "******\n",
      "*******\n",
      "********\n"
     ]
    }
   ],
   "source": [
    "#OJ9\n",
    "a=int(input(\"\"))\n",
    "for i in range(1,a+1,1):\n",
    "    print(\"*\"*i)"
   ]
  },
  {
   "cell_type": "code",
   "execution_count": 30,
   "metadata": {},
   "outputs": [
    {
     "name": "stdout",
     "output_type": "stream",
     "text": [
      "1\n",
      "12\n",
      "123\n",
      "1234\n",
      "12345\n",
      "123456\n",
      "1234567\n",
      "12345678\n",
      "123456789\n",
      "12345678910\n",
      "1234567891011\n",
      "123456789101112\n",
      "12345678910111213\n"
     ]
    }
   ],
   "source": [
    "#OJ10\n",
    "n = int(input())\n",
    "\n",
    "for i in range(1, n + 1):\n",
    "    print(\"\".join(str(num) for num in range(1, i + 1)))\n",
    "      #join 使用字串作為每個元素之間的分隔符號，將可迭代元素串接起來。\n",
    "      #它傳回一個新的字串，其中包含所有可迭代元素，並以指定的字串串接在一起\n",
    "    #num 當作當前行的數字起始值"
   ]
  },
  {
   "cell_type": "code",
   "execution_count": 7,
   "metadata": {},
   "outputs": [
    {
     "name": "stdout",
     "output_type": "stream",
     "text": [
      "20\n"
     ]
    }
   ],
   "source": [
    "#OJ11\n",
    "a,b=map(int,input().split())\n",
    "    #使用 map(int, ...) 將這兩部分轉換為整數 a 和 b。\n",
    "    #使用 input() 函數讀取用戶輸入的兩個整數，並使用 split() 分割成兩部分。\n",
    "\n",
    "gcd=1 #最大公倍數\n",
    "\n",
    "for i in range(1,a*b):\n",
    "    if (a%i==0 and b%i==0):\n",
    "        gcd=i\n",
    "print(gcd)\n",
    "\n"
   ]
  },
  {
   "cell_type": "code",
   "execution_count": 5,
   "metadata": {},
   "outputs": [
    {
     "name": "stdout",
     "output_type": "stream",
     "text": [
      "30\n"
     ]
    }
   ],
   "source": [
    "#OJ12\n",
    "a,b=(input(\"\")).split()\n",
    "a1=int(a)\n",
    "b1=int(b)\n",
    " \n",
    "def find_lcm(a1, b1): # 尋找最小公倍數\n",
    "    for i in range(1,a1*b1+1):\n",
    "        if i%a1==0 and i%b1==0:\n",
    "            return i  # 返回找到的最小公倍數\n",
    "        \n",
    "lcm=find_lcm(a1, b1) #lcm=最小公倍數\n",
    "print(lcm) \n"
   ]
  },
  {
   "cell_type": "code",
   "execution_count": 13,
   "metadata": {},
   "outputs": [
    {
     "name": "stdout",
     "output_type": "stream",
     "text": [
      "Invalid\n"
     ]
    }
   ],
   "source": [
    "#OJ14\n",
    "a,b,c=input('').split()\n",
    "a1=int(a)\n",
    "b1=int(b)\n",
    "c1=int(c)\n",
    "\n",
    "if a1+b1>c1 and a1+c1>b1 and b1+c1>a1:\n",
    "    print(\"Valid\")\n",
    "else:\n",
    "    print(\"Invalid\")\n"
   ]
  },
  {
   "cell_type": "code",
   "execution_count": 14,
   "metadata": {},
   "outputs": [
    {
     "name": "stdout",
     "output_type": "stream",
     "text": [
      "cake banana apple "
     ]
    }
   ],
   "source": [
    "#OJ15\n",
    "a=input().split()\n",
    "b=len(a)\n",
    "for i in range(b,0,-1):\n",
    "    print(a[i-1],end=\" \")"
   ]
  },
  {
   "cell_type": "code",
   "execution_count": null,
   "metadata": {},
   "outputs": [],
   "source": [
    "#OJ18\n",
    "year=int(input(\"\"))\n",
    "if (year % 4==0 and year%100!=0) or year%400==0:\n",
    "    print(year,\"is leap year\")\n",
    "else:\n",
    "    print(year,\"is common year\")"
   ]
  },
  {
   "cell_type": "code",
   "execution_count": 16,
   "metadata": {},
   "outputs": [
    {
     "name": "stdout",
     "output_type": "stream",
     "text": [
      "6*1=6 6*2=12 6*3=18 6*4=24 6*5=30 6*6=36 6*7=42 6*8=48 6*9=54 \n",
      "7*1=7 7*2=14 7*3=21 7*4=28 7*5=35 7*6=42 7*7=49 7*8=56 7*9=63 \n",
      "8*1=8 8*2=16 8*3=24 8*4=32 8*5=40 8*6=48 8*7=56 8*8=64 8*9=72 \n",
      "9*1=9 9*2=18 9*3=27 9*4=36 9*5=45 9*6=54 9*7=63 9*8=72 9*9=81 \n"
     ]
    }
   ],
   "source": [
    "#OJ19\n",
    "a=int(input(\"\"))\n",
    "for j in range(a,10):\n",
    "    for i in range(1,10):\n",
    "        print(\"%d*%d=%d\" % (j,i,i*j),end=\" \")\n",
    "    print()"
   ]
  },
  {
   "cell_type": "code",
   "execution_count": null,
   "metadata": {},
   "outputs": [],
   "source": [
    "#OJ21\n",
    "a=input(\"\")\n",
    "print(\"Ans\",a)"
   ]
  },
  {
   "cell_type": "code",
   "execution_count": 17,
   "metadata": {},
   "outputs": [
    {
     "name": "stdout",
     "output_type": "stream",
     "text": [
      "31\n"
     ]
    }
   ],
   "source": [
    "#OJ22\n",
    "a,b,c,d,e,f,g,h,i=map(int,input().split())\n",
    "j=a+b+c+d+e+f+g+h+i\n",
    "print(j)"
   ]
  },
  {
   "cell_type": "code",
   "execution_count": 18,
   "metadata": {},
   "outputs": [
    {
     "name": "stdout",
     "output_type": "stream",
     "text": [
      "17\n"
     ]
    }
   ],
   "source": [
    "#OJ23\n",
    "str=input(\"\")\n",
    "print(len(str))"
   ]
  },
  {
   "cell_type": "code",
   "execution_count": null,
   "metadata": {},
   "outputs": [],
   "source": [
    "#OJ26\n",
    "grade=int(input(\"\"))\n",
    "if grade<0:\n",
    "    print(grade,\"is error\")\n",
    "elif grade>=90 and grade<100:\n",
    "    print(grade,\"is A\")\n",
    "elif grade>=80 and grade<=89:\n",
    "    print(grade,\"is B\")\n",
    "elif grade>=70 and grade<=79:\n",
    "    print(grade,\"is C\")\n",
    "elif grade>=60 and grade<=69:\n",
    "    print(grade,\"is D\")\n",
    "elif grade>=0 and grade<=59:\n",
    "    print(grade,\"is E\")\n",
    "else:\n",
    "    print(grade,\"is error\")"
   ]
  },
  {
   "cell_type": "code",
   "execution_count": null,
   "metadata": {},
   "outputs": [],
   "source": [
    "#OJ29\n",
    "m=int(input(''))\n",
    "if m>=100000:\n",
    "    print(\"80% discount is\",m*0.8)\n",
    "elif m>=50000:\n",
    "    print(\"85% discount is\",m*0.85)\n",
    "elif m>=30000:\n",
    "    print(\"90% discount is\",m*0.9)\n",
    "elif m>=10000:\n",
    "    print(\"95% discount is\",m*0.95)\n",
    "else:\n",
    "    print(\"no discount is\",m)"
   ]
  },
  {
   "cell_type": "code",
   "execution_count": 29,
   "metadata": {},
   "outputs": [
    {
     "name": "stdout",
     "output_type": "stream",
     "text": [
      "0,5,10,15,20,25,30,35,40,45,50,55,60,65,70,75,80,85,90,95,"
     ]
    }
   ],
   "source": [
    "#OJ30\n",
    "a,b,c=input().split()\n",
    "a1=int(a)\n",
    "b1=int(b)\n",
    "c1=int(c)\n",
    "for i in range(a1,b1,c1):\n",
    "    print(i,end=\",\")\n",
    "\n"
   ]
  },
  {
   "cell_type": "code",
   "execution_count": null,
   "metadata": {},
   "outputs": [],
   "source": [
    "#OJ32\n",
    "a,b,c=input().split()\n",
    "a1=int(a)\n",
    "b1=int(b)\n",
    "c1=int(c)\n",
    "d=range(a1,b1,c1)\n",
    "print(list(d))"
   ]
  },
  {
   "cell_type": "code",
   "execution_count": null,
   "metadata": {},
   "outputs": [],
   "source": [
    "#OJ33\n",
    "a,b,c=input('').split()\n",
    "a1=int(a)\n",
    "b1=int(b)\n",
    "c1=int(c)\n",
    "\n",
    "if a1==b1 or a1==c1 or b1==c1:\n",
    "    print(\"Valid\")\n",
    "else:\n",
    "    print(\"Invalid\")"
   ]
  },
  {
   "cell_type": "code",
   "execution_count": null,
   "metadata": {},
   "outputs": [],
   "source": [
    "#OJ34\n",
    "minutes=int(input())\n",
    "\n",
    "hours = (minutes + 59) // 60  # 向上取整，计算小时数\n",
    "#因为普通的整数除法 // 会向下取整，而 (minutes + 59) 是通过加上 59 分钟来确保即使有剩余分钟也会增加一个小时。比如 61 分钟会变成 120 分钟，再除以 60 会得到 2 小时。\n",
    "fee = min(hours * 40, 300)    # 每小时40元，费用最高300元\n",
    "        \n",
    "        # 输出结果\n",
    "print(f\"park time:{minutes // 60}hr:{minutes % 60}m\")\n",
    "print(f\"pay: {fee} money\")\n",
    "\n",
    "#f-string格式化  f{變數名稱或運算式}」(開頭可以使用f或F)\n",
    "#輸出結果會將變數或運算式的內容，放入指定的位置，下方的程式執行後，會將變數a和b的內容，放入c的字串裡"
   ]
  },
  {
   "cell_type": "code",
   "execution_count": 43,
   "metadata": {},
   "outputs": [
    {
     "name": "stdout",
     "output_type": "stream",
     "text": [
      "park time:7h:49m\n",
      "pay:300 money\n"
     ]
    }
   ],
   "source": [
    "#OJ34\n",
    "a=int(input())\n",
    "b=a//60 #//取得商數\n",
    "c=a%60 #取得餘數\n",
    "\n",
    "if a<=60: #停車未滿1小時,收費20$\n",
    "    fee=20\n",
    "elif 60<a<=420: #停車超過7小時,收費20+hr*40$\n",
    "    fee=20+b*40\n",
    "else:\n",
    "    fee=300 #當日最高收費300$\n",
    "\n",
    "print(f\"park time:{b}h:{c}m\")\n",
    "print(f\"pay:{fee} money\")\n"
   ]
  },
  {
   "cell_type": "code",
   "execution_count": null,
   "metadata": {},
   "outputs": [],
   "source": []
  },
  {
   "cell_type": "code",
   "execution_count": null,
   "metadata": {},
   "outputs": [],
   "source": []
  },
  {
   "cell_type": "code",
   "execution_count": null,
   "metadata": {},
   "outputs": [],
   "source": []
  },
  {
   "cell_type": "code",
   "execution_count": null,
   "metadata": {},
   "outputs": [],
   "source": []
  },
  {
   "cell_type": "code",
   "execution_count": null,
   "metadata": {},
   "outputs": [],
   "source": []
  }
 ],
 "metadata": {
  "kernelspec": {
   "display_name": "Python 3",
   "language": "python",
   "name": "python3"
  },
  "language_info": {
   "codemirror_mode": {
    "name": "ipython",
    "version": 3
   },
   "file_extension": ".py",
   "mimetype": "text/x-python",
   "name": "python",
   "nbconvert_exporter": "python",
   "pygments_lexer": "ipython3",
   "version": "3.11.9"
  }
 },
 "nbformat": 4,
 "nbformat_minor": 2
}
