{
 "cells": [
  {
   "cell_type": "code",
   "execution_count": 6,
   "metadata": {},
   "outputs": [
    {
     "name": "stdout",
     "output_type": "stream",
     "text": [
      "1 2 3 1 2 3 1 2 3\n"
     ]
    }
   ],
   "source": [
    "#OJ1_4\n",
    "print(\"1 2 3 1 2 3 1 2 3\")\n"
   ]
  },
  {
   "cell_type": "code",
   "execution_count": 11,
   "metadata": {},
   "outputs": [
    {
     "name": "stdout",
     "output_type": "stream",
     "text": [
      "banana orange apple\n"
     ]
    }
   ],
   "source": [
    "#OJ1_5\n",
    "list2=[\"apple\",\"orange\",\"banana\"]\n",
    "a=\" \".join(reversed(list2))\n",
    "    #使用字串作為每個元素之間的分隔符號，將可迭代元素串接起來。\n",
    "    #它傳回一個新的字串，其中包含所有可迭代元素，並以指定的字串串接在一起\n",
    "print(a)\n",
    "\n"
   ]
  },
  {
   "cell_type": "code",
   "execution_count": null,
   "metadata": {},
   "outputs": [],
   "source": [
    "#OJ1_6 法1\n",
    "#使用while...迴圈:輸出1+2+...+99之和:\n",
    "sum=0\n",
    "num=1\n",
    "while (num<=100):\n",
    "    sum+=num\n",
    "    num+=1\n",
    "print(sum)\n"
   ]
  },
  {
   "cell_type": "code",
   "execution_count": 14,
   "metadata": {},
   "outputs": [
    {
     "name": "stdout",
     "output_type": "stream",
     "text": [
      "5050\n"
     ]
    }
   ],
   "source": [
    "#OJ1_6 法2\n",
    "n=100\n",
    "total_sum = n * (n + 1) // 2\n",
    "    #1 到 n 的總和： n * (n + 1) // 2\n",
    "\n",
    "print(total_sum)"
   ]
  },
  {
   "cell_type": "code",
   "execution_count": 24,
   "metadata": {},
   "outputs": [
    {
     "name": "stdout",
     "output_type": "stream",
     "text": [
      "-20\n"
     ]
    }
   ],
   "source": [
    "#OJ5\n",
    "a,b,c=input().split()\n",
    "a = int(a)\n",
    "b = int(b)\n",
    "c = int(c)\n",
    "\n",
    "if a<=b and a<=c:\n",
    "    print(a)\n",
    "elif b<=a and b<=c:\n",
    "    print(b)\n",
    "else:\n",
    "    print(c)"
   ]
  },
  {
   "cell_type": "code",
   "execution_count": 29,
   "metadata": {},
   "outputs": [
    {
     "name": "stdout",
     "output_type": "stream",
     "text": [
      "3.999\n"
     ]
    }
   ],
   "source": [
    "#OJ6\n",
    "a,b,c=input().split()\n",
    "a = float(a)\n",
    "b = float(b)\n",
    "c = float(c)\n",
    "\n",
    "if a>=b and a>=c:\n",
    "    print(a)\n",
    "elif b>=a and b>=c:\n",
    "    print(b)\n",
    "else:\n",
    "    print(c)"
   ]
  },
  {
   "cell_type": "code",
   "execution_count": 15,
   "metadata": {},
   "outputs": [
    {
     "name": "stdout",
     "output_type": "stream",
     "text": [
      "1 2 3 5 6 10 15 30 "
     ]
    }
   ],
   "source": [
    "#OJ7\n",
    "n=int(input())\n",
    "for i in range(1,n+1):\n",
    "    if n%i==0:\n",
    "        print(i,end=\" \")    "
   ]
  },
  {
   "cell_type": "code",
   "execution_count": 30,
   "metadata": {},
   "outputs": [
    {
     "name": "stdout",
     "output_type": "stream",
     "text": [
      "1\n",
      "12\n",
      "123\n",
      "1234\n",
      "12345\n",
      "123456\n",
      "1234567\n",
      "12345678\n",
      "123456789\n",
      "12345678910\n",
      "1234567891011\n",
      "123456789101112\n",
      "12345678910111213\n"
     ]
    }
   ],
   "source": [
    "#OJ10\n",
    "n = int(input())\n",
    "\n",
    "for i in range(1, n + 1):\n",
    "    print(\"\".join(str(num) for num in range(1, i + 1)))\n",
    "      #join 使用字串作為每個元素之間的分隔符號，將可迭代元素串接起來。\n",
    "      #它傳回一個新的字串，其中包含所有可迭代元素，並以指定的字串串接在一起\n",
    "    #num 當作當前行的數字起始值"
   ]
  },
  {
   "cell_type": "code",
   "execution_count": 34,
   "metadata": {},
   "outputs": [
    {
     "name": "stdout",
     "output_type": "stream",
     "text": [
      "20\n"
     ]
    }
   ],
   "source": [
    "#OJ11\n",
    "import math\n",
    "\n",
    "# 讀取用戶輸入並分割為兩個數字\n",
    "a, b = map(int, input(\"請輸入兩個整數，用空格分隔: \").split())\n",
    "\n",
    "# 計算最大公因數\n",
    "gcd = math.gcd(a, b)\n",
    "\n",
    "# 輸出結果\n",
    "print(gcd)\n",
    "\n",
    "#1.讀取輸入：\n",
    "#使用 input() 函數讀取用戶輸入的兩個整數，並使用 split() 分割成兩部分。\n",
    "#使用 map(int, ...) 將這兩部分轉換為整數 a 和 b。\n",
    "#2.計算最大公因數：使用 math.gcd(a, b) 計算 a 和 b 的最大公因數。\n"
   ]
  },
  {
   "cell_type": "code",
   "execution_count": 55,
   "metadata": {},
   "outputs": [
    {
     "name": "stdout",
     "output_type": "stream",
     "text": [
      "143\n"
     ]
    }
   ],
   "source": [
    "#OJ12\n",
    "a,b=(input(\"\")).split()\n",
    "a1=int(a)\n",
    "b1=int(b)\n",
    " \n",
    "def find_lcm(a1, b1): # 尋找最小公倍數\n",
    "    for i in range(1,a1*b1+1):\n",
    "        if i%a1==0 and i%b1==0:\n",
    "            return i  # 返回找到的最小公倍數\n",
    "        \n",
    "lcm=find_lcm(a1, b1) #lcm=最小公倍數\n",
    "print(lcm) \n"
   ]
  },
  {
   "cell_type": "code",
   "execution_count": null,
   "metadata": {},
   "outputs": [],
   "source": []
  },
  {
   "cell_type": "code",
   "execution_count": null,
   "metadata": {},
   "outputs": [],
   "source": []
  },
  {
   "cell_type": "code",
   "execution_count": null,
   "metadata": {},
   "outputs": [],
   "source": []
  },
  {
   "cell_type": "code",
   "execution_count": null,
   "metadata": {},
   "outputs": [],
   "source": []
  },
  {
   "cell_type": "code",
   "execution_count": null,
   "metadata": {},
   "outputs": [],
   "source": []
  },
  {
   "cell_type": "code",
   "execution_count": null,
   "metadata": {},
   "outputs": [],
   "source": []
  },
  {
   "cell_type": "code",
   "execution_count": null,
   "metadata": {},
   "outputs": [],
   "source": []
  },
  {
   "cell_type": "code",
   "execution_count": null,
   "metadata": {},
   "outputs": [],
   "source": []
  },
  {
   "cell_type": "code",
   "execution_count": null,
   "metadata": {},
   "outputs": [],
   "source": []
  },
  {
   "cell_type": "code",
   "execution_count": null,
   "metadata": {},
   "outputs": [],
   "source": []
  },
  {
   "cell_type": "code",
   "execution_count": null,
   "metadata": {},
   "outputs": [],
   "source": []
  },
  {
   "cell_type": "code",
   "execution_count": null,
   "metadata": {},
   "outputs": [],
   "source": []
  },
  {
   "cell_type": "code",
   "execution_count": null,
   "metadata": {},
   "outputs": [],
   "source": []
  },
  {
   "cell_type": "code",
   "execution_count": null,
   "metadata": {},
   "outputs": [],
   "source": []
  }
 ],
 "metadata": {
  "kernelspec": {
   "display_name": "Python 3",
   "language": "python",
   "name": "python3"
  },
  "language_info": {
   "codemirror_mode": {
    "name": "ipython",
    "version": 3
   },
   "file_extension": ".py",
   "mimetype": "text/x-python",
   "name": "python",
   "nbconvert_exporter": "python",
   "pygments_lexer": "ipython3",
   "version": "3.12.4"
  }
 },
 "nbformat": 4,
 "nbformat_minor": 2
}
